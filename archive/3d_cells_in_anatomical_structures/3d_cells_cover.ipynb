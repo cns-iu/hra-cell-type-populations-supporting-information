{
 "cells": [
  {
   "cell_type": "markdown",
   "metadata": {},
   "source": [
    "# Code to get HRApop for cortex, renal pyramid, and renal papillae"
   ]
  },
  {
   "cell_type": "markdown",
   "metadata": {},
   "source": [
    "## Import statements"
   ]
  },
  {
   "cell_type": "code",
   "execution_count": 47,
   "metadata": {},
   "outputs": [],
   "source": [
    "import json \n",
    "import requests\n",
    "import pandas as pd\n",
    "from io import StringIO"
   ]
  },
  {
   "cell_type": "markdown",
   "metadata": {},
   "source": [
    "# Get data from HRA KG"
   ]
  },
  {
   "cell_type": "code",
   "execution_count": 48,
   "metadata": {},
   "outputs": [],
   "source": [
    "# set the URL\n",
    "url = 'https://grlc.io/api-git/hubmapconsortium/ccf-grlc/subdir/hra-pop//cell_types_in_anatomical_structurescts_per_as?endpoint=https%3A%2F%2Flod.humanatlas.io%2Fsparql'\n",
    "header = {\"accept\":\"text/csv\"}\n",
    "\n",
    "# make the GET request\n",
    "response = requests.get(url, headers=header)\n",
    "\n",
    "# get text\n",
    "csv_response = response.text\n",
    "\n",
    "# Convert to a data frame\n",
    "df = pd.read_csv(StringIO(csv_response))\n"
   ]
  },
  {
   "cell_type": "markdown",
   "metadata": {},
   "source": [
    "## Get just the data for the renal pyramids, cortex, and papillas in the VHM left kidney, annotated with Azimuth"
   ]
  },
  {
   "cell_type": "code",
   "execution_count": 49,
   "metadata": {},
   "outputs": [],
   "source": [
    "subset_df = df[((df['as_label'] == 'renal pyramid') |\n",
    "               (df['as_label'] == 'renal papilla') |\n",
    "               (df['as_label'] == 'outer cortex of kidney')) &\n",
    "               (df['organ'] == 'Left Kidney') &\n",
    "               (df['sex'] == 'Male') & \n",
    "               (df['tool'] == 'azimuth')\n",
    "               ]\n",
    "\n",
    "# export to CSV\n",
    "subset_df.to_csv(\"output/cover_cell_counts.csv\")"
   ]
  }
 ],
 "metadata": {
  "kernelspec": {
   "display_name": "Python 3",
   "language": "python",
   "name": "python3"
  },
  "language_info": {
   "codemirror_mode": {
    "name": "ipython",
    "version": 3
   },
   "file_extension": ".py",
   "mimetype": "text/x-python",
   "name": "python",
   "nbconvert_exporter": "python",
   "pygments_lexer": "ipython3",
   "version": "3.11.8"
  }
 },
 "nbformat": 4,
 "nbformat_minor": 2
}
