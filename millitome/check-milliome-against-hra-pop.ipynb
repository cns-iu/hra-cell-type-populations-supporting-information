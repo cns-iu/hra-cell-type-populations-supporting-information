{
 "cells": [
  {
   "cell_type": "markdown",
   "metadata": {},
   "source": [
    "## A notebook to check millitome datasets against hra-pop"
   ]
  },
  {
   "cell_type": "code",
   "execution_count": 5,
   "metadata": {},
   "outputs": [
    {
     "name": "stdout",
     "output_type": "stream",
     "text": [
      "Requirement already satisfied: pandas in c:\\users\\abueckle\\documents\\github\\hra-cell-type-populations-supporting-information\\.venv\\lib\\site-packages (2.2.2)\n",
      "Requirement already satisfied: numpy>=1.26.0 in c:\\users\\abueckle\\documents\\github\\hra-cell-type-populations-supporting-information\\.venv\\lib\\site-packages (from pandas) (1.26.4)\n",
      "Requirement already satisfied: python-dateutil>=2.8.2 in c:\\users\\abueckle\\documents\\github\\hra-cell-type-populations-supporting-information\\.venv\\lib\\site-packages (from pandas) (2.9.0.post0)\n",
      "Requirement already satisfied: pytz>=2020.1 in c:\\users\\abueckle\\documents\\github\\hra-cell-type-populations-supporting-information\\.venv\\lib\\site-packages (from pandas) (2024.1)\n",
      "Requirement already satisfied: tzdata>=2022.7 in c:\\users\\abueckle\\documents\\github\\hra-cell-type-populations-supporting-information\\.venv\\lib\\site-packages (from pandas) (2024.1)\n",
      "Requirement already satisfied: six>=1.5 in c:\\users\\abueckle\\documents\\github\\hra-cell-type-populations-supporting-information\\.venv\\lib\\site-packages (from python-dateutil>=2.8.2->pandas) (1.16.0)\n",
      "Note: you may need to restart the kernel to use updated packages.\n"
     ]
    }
   ],
   "source": [
    "# install and import libraries\n",
    "%pip install pandas\n",
    "\n",
    "import pandas as pd\n",
    "import glob"
   ]
  },
  {
   "cell_type": "code",
   "execution_count": 6,
   "metadata": {},
   "outputs": [
    {
     "data": {
      "text/plain": [
       "Index(['HuBMAP Sample ID', 'Donor', 'Link', 'Lab ID', 'Parent organ type',\n",
       "       'BLOCK Location', 'Assay Group', 'millitome_ID', 'HubMAP ID',\n",
       "       'Submission ID', 'sample_lab_id', 'TIssue Block HuBMAP IDs',\n",
       "       'RUI Location', 'Id'],\n",
       "      dtype='object')"
      ]
     },
     "execution_count": 6,
     "metadata": {},
     "output_type": "execute_result"
    }
   ],
   "source": [
    "# load data\n",
    "csv_files = glob.glob('data/*.csv')\n",
    "\n",
    "# Create an empty list to store the dataframes\n",
    "dfs = []\n",
    "\n",
    "# Loop through each CSV file and read it into a dataframe\n",
    "for file in csv_files:\n",
    "    df = pd.read_csv(file)\n",
    "    dfs.append(df)\n",
    "\n",
    "# Concatenate all dataframes into a single dataframe\n",
    "combined_df = pd.concat(dfs, ignore_index=True)\n",
    "\n",
    "# identify HuBMAP IDs from all the columns\n",
    "combined_df.columns"
   ]
  },
  {
   "cell_type": "code",
   "execution_count": 7,
   "metadata": {},
   "outputs": [
    {
     "data": {
      "text/plain": [
       "[array(['HBM692.LCNB.765', 'HBM792.WJLJ.923', 'HBM256.MTWQ.585',\n",
       "        'HBM568.LZHR.425', 'HBM252.QVCK.893', 'HBM495.WLDR.795',\n",
       "        'HBM588.TNGJ.868', 'HBM644.XFGJ.857', 'HBM385.QFHD.475',\n",
       "        'HBM334.CHVK.238', 'HBM587.DFCW.749', 'HBM995.CQKZ.339',\n",
       "        'HBM966.WGFQ.597', 'HBM553.WQWN.884', 'HBM374.SRZD.953',\n",
       "        'HBM762.SPJF.928', 'HBM776.DNJZ.945', 'HBM459.VMJC.864',\n",
       "        'HBM696.HWTM.483', 'HBM992.ZLZB.786', 'HBM759.ZTGN.372',\n",
       "        'HBM379.BGFQ.837', 'HBM476.NQXM.289', 'HBM872.TSRG.986',\n",
       "        'HBM997.HRCG.585', 'HBM567.DVNV.954', 'HBM779.SKXG.842',\n",
       "        'HBM399.TBPX.343', 'HBM337.QSBH.972', 'HBM324.HZVF.467',\n",
       "        'HBM269.BZSG.442', 'HBM278.XLBD.662', 'HBM235.XDSM.559',\n",
       "        'HBM727.WSZX.242', 'HBM927.XWTL.358', 'HBM255.FFJQ.856',\n",
       "        'HBM369.WRDC.345', 'HBM724.GMZM.797', 'HBM474.TQQQ.496',\n",
       "        'HBM367.JCKP.625', 'HBM785.MVWL.456', 'HBM773.MKCR.985',\n",
       "        'HBM827.MZXW.224', 'HBM947.XDKM.768', 'HBM224.TTJB.522',\n",
       "        'HBM299.VQZH.986', 'HBM367.VSDK.374', 'HBM863.NCVL.825',\n",
       "        'HBM256.ZGQF.566', 'HBM353.RTXH.756', 'HBM758.KNGF.866',\n",
       "        'HBM327.HPJM.473', 'HBM487.BBDJ.936', 'HBM479.GRRC.878',\n",
       "        'HBM366.WHRH.745', 'HBM332.QKWS.625', 'HBM366.BVQC.294',\n",
       "        'HBM864.QFTF.838', 'HBM634.TSZQ.288', 'HBM236.RPHZ.924',\n",
       "        'HBM387.BHCS.282', 'HBM794.WZTX.678', 'HBM953.DKKW.389',\n",
       "        'HBM235.FZDT.382', 'HBM978.MDWW.278', 'HBM946.VQKL.632',\n",
       "        'HBM924.KTQF.774', 'HBM298.NXHR.528', 'HBM455.DCGV.562',\n",
       "        'HBM754.LXMB.975', 'HBM575.MXPN.969', 'HBM259.PRLN.377',\n",
       "        'HBM924.RGDG.483', 'HBM533.XLXF.795', 'HBM623.KJGR.642',\n",
       "        'HBM285.SRTL.889', 'HBM353.WXCP.267', 'HBM847.JWMZ.742',\n",
       "        'HBM264.TKQN.626', 'HBM495.CHDG.737', 'HBM553.HRBR.567',\n",
       "        'HBM888.ZGTM.434', 'HBM553.WNFJ.668', 'HBM882.MCHD.457',\n",
       "        'HBM734.QQXM.932', 'HBM878.NKRD.966', 'HBM798.NZCN.244',\n",
       "        'HBM547.XHWT.259', 'HBM835.QGBN.256', 'HBM749.KLJP.222',\n",
       "        'HBM724.NCFV.667', 'HBM777.LWJN.259', 'HBM589.ZMGW.584',\n",
       "        'HBM765.LQQR.483', 'HBM924.MLQQ.543', 'HBM254.FFSR.893',\n",
       "        'HBM695.LNDL.539', 'HBM972.QMDB.665', 'HBM983.HJCH.728',\n",
       "        'HBM258.LPXQ.626', 'HBM496.KWGJ.958', 'HBM897.DBTQ.278',\n",
       "        'HBM589.LCLB.675', 'HBM932.LWTP.253', 'HBM288.ZRRP.837',\n",
       "        'HBM393.CWNW.323', 'HBM764.TCJN.573', 'HBM466.QQRB.387',\n",
       "        'HBM356.HGKJ.573', 'HBM438.NRLH.282', 'HBM596.ZHQP.746',\n",
       "        'HBM654.HKTS.657', 'HBM527.XDKX.652', 'HBM626.NTDP.464',\n",
       "        'HBM997.PNFL.384', 'HBM636.PRGH.444', 'HBM472.TKPC.695',\n",
       "        'HBM274.XLXT.396', 'HBM559.ZTZP.945', 'HBM353.GFJR.228',\n",
       "        'HBM973.DQTR.568', 'HBM359.LMMX.954', 'HBM699.HPRM.256',\n",
       "        'HBM236.SCJT.743', 'HBM524.JPDZ.355', 'HBM756.LMDM.653',\n",
       "        'HBM537.RTQD.243', 'HBM952.WQNQ.772', 'HBM779.WMBJ.259',\n",
       "        'HBM275.HNJP.353', 'HBM799.QWLQ.586', 'HBM389.ZDTG.259',\n",
       "        'HBM946.XPHR.294', 'HBM672.FXXC.728', 'HBM569.QFBX.255',\n",
       "        'HBM469.WBDB.236', 'HBM726.SXHR.776', 'HBM635.XWKL.465',\n",
       "        'HBM344.WNWT.887', 'HBM229.KRZG.433', 'HBM824.BCPM.928',\n",
       "        'HBM787.XVBB.778', 'HBM888.FVGP.722', 'HBM848.NRQS.525',\n",
       "        'HBM489.JQWW.586', 'HBM943.BCDD.564', 'HBM466.LBZB.849',\n",
       "        'HBM775.NSFR.938', 'HBM379.LNSK.525', 'HBM266.FTVW.363',\n",
       "        'HBM454.KDVK.822', 'HBM648.HNMT.824', 'HBM939.ZDBQ.785',\n",
       "        'HBM657.BWGV.752', 'HBM695.FRXZ.228', 'HBM374.KHMG.723',\n",
       "        'HBM287.SBVS.723', 'HBM757.HGNZ.577', 'HBM865.JCSK.882',\n",
       "        'HBM263.FMSF.843', 'HBM859.TQFB.675', 'HBM959.HTRP.236',\n",
       "        'HBM275.JHHR.485', 'HBM337.XFSG.666', 'HBM428.BWRD.925',\n",
       "        'HBM372.ZGVB.958', 'HBM634.KXMR.248', 'HBM765.PNFD.598'],\n",
       "       dtype=object),\n",
       " array(['HBM276.GFPC.635', 'HBM739.GMPL.795', 'HBM423.XPHQ.985',\n",
       "        'HBM478.ZFHP.762', 'HBM737.XJXW.937', 'HBM949.ZGVR.368',\n",
       "        'HBM722.DBWB.748', 'HBM698.KJHG.853', 'HBM695.PWZG.339',\n",
       "        'HBM385.SNKV.624', 'HBM523.NRXN.227', 'HBM589.PNKV.963',\n",
       "        'HBM354.BMGT.857', 'HBM258.TJSN.478', 'HBM652.ZMRW.992',\n",
       "        'HBM249.HQKB.238', 'HBM784.ZJPH.257', 'HBM236.KFMN.674',\n",
       "        'HBM886.NXCM.856', 'HBM939.PKWC.725', 'HBM947.DLTF.693',\n",
       "        'HBM766.TQXK.428', 'HBM668.TVFJ.689', 'HBM245.CBSJ.835',\n",
       "        'HBM332.SXMW.738', 'HBM933.PCPS.677', 'HBM653.HMTL.662',\n",
       "        'HBM673.PSST.553', 'HBM736.CSFH.676', 'HBM625.VTSD.372',\n",
       "        'HBM549.SPBK.546', 'HBM637.BZWM.965', 'HBM897.PBPM.234',\n",
       "        'HBM295.VCDK.833', 'HBM546.WDNB.765', 'HBM596.ZRCV.297',\n",
       "        'HBM264.PSRV.582', 'HBM478.FMRZ.922', 'HBM443.RFHH.794',\n",
       "        'HBM798.SLHS.554', 'HBM776.QRPN.788', 'HBM539.ZKQC.753',\n",
       "        'HBM828.MZDD.788', 'HBM787.SQKZ.273', 'HBM346.PQDV.833',\n",
       "        'HBM953.JDDQ.247', 'HBM694.BFBF.488', 'HBM446.TTQK.879',\n",
       "        'HBM292.SZLP.743', 'HBM823.ZMBM.854', 'HBM527.HXPJ.667',\n",
       "        'HBM396.FRFX.532', 'HBM387.LNRH.259', 'HBM428.DHQK.728',\n",
       "        'HBM263.WXWS.548', 'HBM323.LXQC.528', 'HBM796.RTMC.653',\n",
       "        'HBM325.XBKX.435', 'HBM326.XGKS.433', 'HBM578.XFJV.895',\n",
       "        'HBM865.WDMD.433', 'HBM747.VSPX.269', 'HBM324.BKKD.464',\n",
       "        'HBM484.ZVKT.637', 'HBM256.GTDN.293', 'HBM445.LQHS.647',\n",
       "        'HBM687.HDVB.474', 'HBM259.ZMVL.769', 'HBM757.RNXT.995',\n",
       "        'HBM222.SPDZ.887', 'HBM824.KJHT.363', 'HBM527.GLLT.389',\n",
       "        'HBM527.JXLF.536', 'HBM854.KZTJ.542', 'HBM737.PLJS.672',\n",
       "        'HBM258.DJPD.337', 'HBM749.CCKP.223', 'HBM278.BHRC.837',\n",
       "        'HBM735.XJMC.393', 'HBM989.PLHZ.948', 'HBM982.ZCVV.782',\n",
       "        'HBM488.CHDL.258', 'HBM998.GKGC.975', 'HBM266.VPZP.788',\n",
       "        'HBM297.PSFB.387', 'HBM924.FKPJ.778'], dtype=object),\n",
       " array(['HBM625.ZFTZ.894', 'HBM859.DZPK.256', 'HBM527.VMNR.723',\n",
       "        'HBM685.VJVH.785', 'HBM833.JPZG.893', 'HBM329.BFHH.463',\n",
       "        'HBM958.LBJH.999', 'HBM377.WDKH.475', 'HBM869.FJXG.495',\n",
       "        'HBM927.QBZP.837', 'HBM293.ZZWZ.357', 'HBM442.TVMK.429',\n",
       "        'HBM484.CKHP.546', 'HBM385.FTLT.493', 'HBM279.ZBFG.324',\n",
       "        'HBM674.MWZD.688', 'HBM883.PSDQ.427', 'HBM527.NKKJ.929',\n",
       "        'HBM973.ZLKQ.336', 'HBM876.MXVS.964', 'HBM246.CHBX.834',\n",
       "        'HBM766.MZBD.225', 'HBM757.TRPD.633', 'HBM557.HCGR.966',\n",
       "        'HBM649.JXXJ.663', 'HBM585.QZJW.757', 'HBM976.ZRGZ.727',\n",
       "        'HBM546.DGDM.997', 'HBM553.NXDC.839', 'HBM729.SWHH.556',\n",
       "        'HBM982.QJXL.457', 'HBM358.RPHN.988', 'HBM682.GXDW.332',\n",
       "        'HBM625.GBWK.235', 'HBM946.VMFS.285', 'HBM684.XGCJ.236',\n",
       "        'HBM226.VMCQ.457', 'HBM468.BSFF.497', 'HBM885.NMZD.498',\n",
       "        'HBM934.DSKM.373', 'HBM477.DNSQ.482', 'HBM777.XKJR.955',\n",
       "        'HBM932.BDDF.488', 'HBM654.BRMR.499', 'HBM334.CKDR.378',\n",
       "        'HBM282.HRBR.725', 'HBM636.FSWJ.233', 'HBM942.QCTR.435',\n",
       "        'HBM664.CBCV.737', 'HBM425.ZVGH.827', 'HBM395.JSFQ.926',\n",
       "        'HBM687.SHQR.253', 'HBM324.MGBM.394', 'HBM788.QJCW.535',\n",
       "        'HBM767.VGMG.745', 'HBM352.VWZK.846', 'HBM838.QTSC.464',\n",
       "        'HBM295.KDDN.578', 'HBM555.HCPS.767', 'HBM736.VNGX.794',\n",
       "        'HBM935.CMXN.233', 'HBM796.WWBF.666', 'HBM825.CZWX.579',\n",
       "        'HBM755.CTKR.399', 'HBM432.XXDB.622', 'HBM755.HBKW.434',\n",
       "        'HBM995.KHXV.747', 'HBM933.SVHX.434', 'HBM384.KLJF.772',\n",
       "        'HBM253.KNDT.482', 'HBM999.MHNH.368', 'HBM263.GPWC.874',\n",
       "        'HBM846.JGXK.835', 'HBM764.MVCB.754', 'HBM677.BDRD.667',\n",
       "        'HBM386.SFSR.799', 'HBM439.JJRL.379', 'HBM932.PBSW.589',\n",
       "        'HBM798.NQQL.444', 'HBM934.XMWH.474', 'HBM523.LJDP.788',\n",
       "        'HBM298.ZGSD.633', 'HBM662.BVNR.532', 'HBM529.MJXG.897',\n",
       "        'HBM693.WRFR.798', 'HBM652.JZJM.672', 'HBM986.ZTSL.433',\n",
       "        'HBM834.CKNS.258', 'HBM785.PJSJ.638', 'HBM967.LFWL.562',\n",
       "        'HBM657.KJJZ.262', 'HBM586.FJPR.395', 'HBM234.CXDK.624',\n",
       "        'HBM556.LCHZ.242', 'HBM779.QWGV.396', 'HBM733.MVMH.924',\n",
       "        'HBM324.XBHH.364'], dtype=object)]"
      ]
     },
     "execution_count": 7,
     "metadata": {},
     "output_type": "execute_result"
    }
   ],
   "source": [
    "# get HuBMAP IDs\n",
    "hubmap_ids = []\n",
    "\n",
    "keep = ['HuBMAP Sample ID','HubMAP ID','TIssue Block HuBMAP IDs']\n",
    "\n",
    "for col_name in combined_df.columns:\n",
    "  if col_name in keep:\n",
    "    hubmap_ids.append(combined_df[col_name].dropna().unique())\n",
    "\n",
    "hubmap_ids"
   ]
  }
 ],
 "metadata": {
  "kernelspec": {
   "display_name": ".venv",
   "language": "python",
   "name": "python3"
  },
  "language_info": {
   "codemirror_mode": {
    "name": "ipython",
    "version": 3
   },
   "file_extension": ".py",
   "mimetype": "text/x-python",
   "name": "python",
   "nbconvert_exporter": "python",
   "pygments_lexer": "ipython3",
   "version": "3.12.4"
  }
 },
 "nbformat": 4,
 "nbformat_minor": 2
}
