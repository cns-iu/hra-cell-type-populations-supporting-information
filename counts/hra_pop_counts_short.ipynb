{
 "cells": [
  {
   "cell_type": "markdown",
   "metadata": {},
   "source": [
    "## HRApop counts (short)"
   ]
  },
  {
   "cell_type": "code",
   "execution_count": 13,
   "metadata": {},
   "outputs": [
    {
     "name": "stderr",
     "output_type": "stream",
     "text": [
      "C:\\Users\\abueckle\\AppData\\Local\\Temp\\1\\ipykernel_4764\\2960438112.py:1: DtypeWarning: Columns (1,3) have mixed types. Specify dtype option on import or set low_memory=False.\n",
      "  sankey = pd.read_csv(f\"../../hra-pop/output-data/{hra_pop_version}/reports/universe-ad-hoc/sankey.csv\")\n"
     ]
    }
   ],
   "source": [
    "import contextlib\n",
    "import io\n",
    "\n",
    "with contextlib.redirect_stdout(io.StringIO()):\n",
    "    %run hra_pop_counts.ipynb"
   ]
  },
  {
   "cell_type": "code",
   "execution_count": 14,
   "metadata": {},
   "outputs": [
    {
     "name": "stdout",
     "output_type": "stream",
     "text": [
      "Number of UNIVERSE datasets: 11698\n",
      "Number of sc-proteomics datasets: 107\n",
      "Number of sc-transcriptomics datasets with cell summary: 5587\n",
      "Datasets with extraction site but without cell summary: 3680\n",
      "Datasets with neither: 2324\n",
      "Number of portals: 1\n",
      "Number of organs: 27\n"
     ]
    }
   ],
   "source": [
    "\n",
    "# All datasets downloaded and retrieved from extraction sites\n",
    "print(f\"Number of UNIVERSE datasets: {len(all_datasets)}\")\n",
    "print(f\"Number of sc-proteomics datasets: {len(all_sc_proteomics)}\")\n",
    "print(f\"Number of sc-transcriptomics datasets with cell summary: {\n",
    "      len(sc_transcriptomics_with_cell_summary)}\")\n",
    "print(f\"Datasets with extraction site but without cell summary: {\n",
    "      len(no_cell_summary)}\")\n",
    "print(f\"Datasets with neither: {len(non_atlas_without_either)}\")\n",
    "\n",
    "\n",
    "# number of portals for sc-transcriptomics\n",
    "portals = sankey[sankey['cell_type_annotation_tool']\n",
    "                 == \"sc_proteomics\"]['portal'].unique()\n",
    "print(f\"Number of portals: {len(portals)}\")\n",
    "\n",
    "# number of organs for sc-transcriptomics\n",
    "organs = sankey['organ_name'].unique()\n",
    "print(f\"Number of organs: {len(organs)}\")"
   ]
  }
 ],
 "metadata": {
  "kernelspec": {
   "display_name": ".venv",
   "language": "python",
   "name": "python3"
  },
  "language_info": {
   "codemirror_mode": {
    "name": "ipython",
    "version": 3
   },
   "file_extension": ".py",
   "mimetype": "text/x-python",
   "name": "python",
   "nbconvert_exporter": "python",
   "pygments_lexer": "ipython3",
   "version": "3.12.4"
  }
 },
 "nbformat": 4,
 "nbformat_minor": 2
}
