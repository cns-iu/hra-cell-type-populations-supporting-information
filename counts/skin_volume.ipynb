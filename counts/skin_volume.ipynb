{
 "cells": [
  {
   "cell_type": "markdown",
   "id": "c3461912",
   "metadata": {},
   "source": [
    "## Code to compute the volume of the VHF/M skin"
   ]
  },
  {
   "cell_type": "markdown",
   "id": "0ce7f6cc",
   "metadata": {},
   "source": [
    "## Install and load libraries"
   ]
  },
  {
   "cell_type": "code",
   "execution_count": 1,
   "id": "57250a4f",
   "metadata": {},
   "outputs": [
    {
     "name": "stderr",
     "output_type": "stream",
     "text": [
      "\n",
      "[notice] A new release of pip is available: 25.1.1 -> 25.2\n",
      "[notice] To update, run: python.exe -m pip install --upgrade pip\n"
     ]
    },
    {
     "name": "stdout",
     "output_type": "stream",
     "text": [
      "Requirement already satisfied: trimesh in c:\\users\\abueckle\\documents\\github\\hra-cell-type-populations-supporting-information\\.venv\\lib\\site-packages (4.4.8)\n",
      "Requirement already satisfied: numpy>=1.20 in c:\\users\\abueckle\\documents\\github\\hra-cell-type-populations-supporting-information\\.venv\\lib\\site-packages (from trimesh) (1.26.4)\n",
      "Note: you may need to restart the kernel to use updated packages.\n"
     ]
    }
   ],
   "source": [
    "%pip install trimesh\n",
    "\n",
    "import trimesh\n",
    "import math"
   ]
  },
  {
   "cell_type": "markdown",
   "id": "cb1d8231",
   "metadata": {},
   "source": [
    "## Get volume"
   ]
  },
  {
   "cell_type": "code",
   "execution_count": 7,
   "id": "4f8340db",
   "metadata": {},
   "outputs": [],
   "source": [
    "\n",
    "def get_volume(path:str):\n",
    "  # Load the GLB file\n",
    "  mesh = trimesh.load(f'{path}')\n",
    "\n",
    "  # Compute volume (in cubic meters because that the mesh's coordinate system)\n",
    "  volume = mesh.volume * 1000 #convert to liters = dm^3\n",
    "  return volume"
   ]
  },
  {
   "cell_type": "code",
   "execution_count": 8,
   "id": "a5634bfa",
   "metadata": {},
   "outputs": [
    {
     "name": "stdout",
     "output_type": "stream",
     "text": [
      "Volume for 3d-vh-f-skin.glb: 79.80372799544581 liters\n",
      "Volume for 3d-vh-m-skin.glb: 104.79518250993512 liters\n"
     ]
    }
   ],
   "source": [
    "print(f\"Volume for 3d-vh-f-skin.glb: {get_volume('data/3d-vh-f-skin.glb')} liters\")\n",
    "print(f\"Volume for 3d-vh-m-skin.glb: {get_volume('data/3d-vh-m-skin.glb')} liters\")"
   ]
  },
  {
   "cell_type": "markdown",
   "id": "27e4bdab",
   "metadata": {},
   "source": [
    "## Get volume of a cell and check how many would fit in"
   ]
  },
  {
   "cell_type": "code",
   "execution_count": 9,
   "id": "e03c1729",
   "metadata": {},
   "outputs": [
    {
     "data": {
      "text/plain": [
       "5.235987755982989e-13"
      ]
     },
     "execution_count": 9,
     "metadata": {},
     "output_type": "execute_result"
    }
   ],
   "source": [
    "cell_diameter_microns = 10\n",
    "cell_diameter_decimeters = 0.0001\n",
    "cell_radius = cell_diameter_decimeters / 2\n",
    "\n",
    "cell_volume = (4/3) * math.pi * (cell_radius ** 3)\n",
    "\n",
    "cell_volume"
   ]
  },
  {
   "cell_type": "code",
   "execution_count": 11,
   "id": "e9ca3f1d",
   "metadata": {},
   "outputs": [
    {
     "name": "stdout",
     "output_type": "stream",
     "text": [
      "Number of cells with volume 5.235987755982989e-13 in liters that fit into 79.80372799544581 liters: 112.78628115421012 trillions\n",
      "Number of cells with volume 5.235987755982989e-13 in liters that fit into 104.79518250993512 liters: 148.10660122102075 trillions\n"
     ]
    }
   ],
   "source": [
    "packing_efficiency = .74\n",
    "\n",
    "print(f'Number of cells with volume {cell_volume} in liters that fit into {get_volume('data/3d-vh-f-skin.glb')} liters: {((get_volume('data/3d-vh-f-skin.glb')/cell_volume) * packing_efficiency) / 1_000_000_000_000} trillions')\n",
    "print(f'Number of cells with volume {cell_volume} in liters that fit into {get_volume('data/3d-vh-m-skin.glb')} liters: {((get_volume('data/3d-vh-m-skin.glb')/cell_volume) * packing_efficiency) / 1_000_000_000_000} trillions')"
   ]
  }
 ],
 "metadata": {
  "kernelspec": {
   "display_name": ".venv",
   "language": "python",
   "name": "python3"
  },
  "language_info": {
   "codemirror_mode": {
    "name": "ipython",
    "version": 3
   },
   "file_extension": ".py",
   "mimetype": "text/x-python",
   "name": "python",
   "nbconvert_exporter": "python",
   "pygments_lexer": "ipython3",
   "version": "3.12.4"
  }
 },
 "nbformat": 4,
 "nbformat_minor": 5
}
