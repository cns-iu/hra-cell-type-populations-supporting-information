{
 "cells": [
  {
   "cell_type": "markdown",
   "metadata": {},
   "source": [
    "# A notebook to compile counts for the HRApop paper"
   ]
  },
  {
   "cell_type": "markdown",
   "metadata": {},
   "source": [
    "# Import libraries"
   ]
  },
  {
   "cell_type": "code",
   "execution_count": 2,
   "metadata": {},
   "outputs": [
    {
     "name": "stdout",
     "output_type": "stream",
     "text": [
      "Requirement already satisfied: pandas in c:\\users\\abueckle\\documents\\github\\hra-cell-type-populations-supporting-information\\.venv\\lib\\site-packages (2.2.2)\n",
      "Requirement already satisfied: numpy in c:\\users\\abueckle\\documents\\github\\hra-cell-type-populations-supporting-information\\.venv\\lib\\site-packages (1.26.4)\n",
      "Requirement already satisfied: requests in c:\\users\\abueckle\\documents\\github\\hra-cell-type-populations-supporting-information\\.venv\\lib\\site-packages (2.32.3)\n",
      "Requirement already satisfied: python-dateutil>=2.8.2 in c:\\users\\abueckle\\documents\\github\\hra-cell-type-populations-supporting-information\\.venv\\lib\\site-packages (from pandas) (2.9.0.post0)\n",
      "Requirement already satisfied: pytz>=2020.1 in c:\\users\\abueckle\\documents\\github\\hra-cell-type-populations-supporting-information\\.venv\\lib\\site-packages (from pandas) (2024.1)\n",
      "Requirement already satisfied: tzdata>=2022.7 in c:\\users\\abueckle\\documents\\github\\hra-cell-type-populations-supporting-information\\.venv\\lib\\site-packages (from pandas) (2024.1)\n",
      "Requirement already satisfied: charset-normalizer<4,>=2 in c:\\users\\abueckle\\documents\\github\\hra-cell-type-populations-supporting-information\\.venv\\lib\\site-packages (from requests) (3.3.2)\n",
      "Requirement already satisfied: idna<4,>=2.5 in c:\\users\\abueckle\\documents\\github\\hra-cell-type-populations-supporting-information\\.venv\\lib\\site-packages (from requests) (2.10)\n",
      "Requirement already satisfied: urllib3<3,>=1.21.1 in c:\\users\\abueckle\\documents\\github\\hra-cell-type-populations-supporting-information\\.venv\\lib\\site-packages (from requests) (1.26.7)\n",
      "Requirement already satisfied: certifi>=2017.4.17 in c:\\users\\abueckle\\documents\\github\\hra-cell-type-populations-supporting-information\\.venv\\lib\\site-packages (from requests) (2021.10.8)\n",
      "Requirement already satisfied: six>=1.5 in c:\\users\\abueckle\\documents\\github\\hra-cell-type-populations-supporting-information\\.venv\\lib\\site-packages (from python-dateutil>=2.8.2->pandas) (1.16.0)\n",
      "Note: you may need to restart the kernel to use updated packages.\n"
     ]
    },
    {
     "name": "stderr",
     "output_type": "stream",
     "text": [
      "\n",
      "[notice] A new release of pip is available: 25.0 -> 25.0.1\n",
      "[notice] To update, run: python.exe -m pip install --upgrade pip\n"
     ]
    }
   ],
   "source": [
    "%pip install pandas numpy requests\n",
    "\n",
    "import pandas as pd\n",
    "import numpy as np\n",
    "import requests\n",
    "import io"
   ]
  },
  {
   "cell_type": "markdown",
   "metadata": {},
   "source": [
    "# Set global variables"
   ]
  },
  {
   "cell_type": "code",
   "execution_count": 3,
   "metadata": {},
   "outputs": [],
   "source": [
    "hra_pop_version = \"v0.11.1\""
   ]
  },
  {
   "cell_type": "markdown",
   "metadata": {},
   "source": [
    "# Load data"
   ]
  },
  {
   "cell_type": "code",
   "execution_count": 4,
   "metadata": {},
   "outputs": [
    {
     "name": "stderr",
     "output_type": "stream",
     "text": [
      "C:\\Users\\abueckle\\AppData\\Local\\Temp\\ipykernel_58544\\2960438112.py:1: DtypeWarning: Columns (1,3) have mixed types. Specify dtype option on import or set low_memory=False.\n",
      "  sankey = pd.read_csv(f\"../../hra-pop/output-data/{hra_pop_version}/reports/universe-ad-hoc/sankey.csv\")\n"
     ]
    },
    {
     "data": {
      "application/vnd.microsoft.datawrangler.viewer.v0+json": {
       "columns": [
        {
         "name": "index",
         "rawType": "int64",
         "type": "integer"
        },
        {
         "name": "portal",
         "rawType": "object",
         "type": "string"
        },
        {
         "name": "study_paper",
         "rawType": "object",
         "type": "unknown"
        },
        {
         "name": "doi",
         "rawType": "object",
         "type": "unknown"
        },
        {
         "name": "lead_author",
         "rawType": "object",
         "type": "unknown"
        },
        {
         "name": "is_azimuth_reference",
         "rawType": "float64",
         "type": "float"
        },
        {
         "name": "donor_id",
         "rawType": "object",
         "type": "string"
        },
        {
         "name": "donor_sex",
         "rawType": "object",
         "type": "string"
        },
        {
         "name": "donor_age",
         "rawType": "float64",
         "type": "float"
        },
        {
         "name": "donor_development_stage",
         "rawType": "float64",
         "type": "float"
        },
        {
         "name": "donor_race",
         "rawType": "object",
         "type": "unknown"
        },
        {
         "name": "donor_bmi",
         "rawType": "float64",
         "type": "float"
        },
        {
         "name": "organ_name",
         "rawType": "object",
         "type": "string"
        },
        {
         "name": "organ_name_glb_file",
         "rawType": "object",
         "type": "string"
        },
        {
         "name": "tissue_block_id",
         "rawType": "object",
         "type": "string"
        },
        {
         "name": "tissue_block_volume",
         "rawType": "float64",
         "type": "float"
        },
        {
         "name": "collisions_bb",
         "rawType": "float64",
         "type": "float"
        },
        {
         "name": "collisions_mesh",
         "rawType": "float64",
         "type": "float"
        },
        {
         "name": "list_of_colliding_anatomical_structures_bb",
         "rawType": "object",
         "type": "string"
        },
        {
         "name": "list_of_colliding_anatomical_structures_mesh",
         "rawType": "object",
         "type": "unknown"
        },
        {
         "name": "list_of_colliding_anatomical_structures_bb_ids",
         "rawType": "object",
         "type": "string"
        },
        {
         "name": "list_of_colliding_anatomical_structures_mesh_ids",
         "rawType": "object",
         "type": "unknown"
        },
        {
         "name": "dataset_id",
         "rawType": "object",
         "type": "string"
        },
        {
         "name": "unique_dataset_id",
         "rawType": "object",
         "type": "string"
        },
        {
         "name": "link_to_h5ad_file",
         "rawType": "object",
         "type": "string"
        },
        {
         "name": "sc_transcriptomics_or_sc_proteomics",
         "rawType": "float64",
         "type": "float"
        },
        {
         "name": "cell_type_annotation_tool",
         "rawType": "object",
         "type": "unknown"
        },
        {
         "name": "omap_id",
         "rawType": "float64",
         "type": "float"
        },
        {
         "name": "number_of_cells_total",
         "rawType": "float64",
         "type": "float"
        },
        {
         "name": "number_of_unique_cell_types",
         "rawType": "float64",
         "type": "float"
        },
        {
         "name": "hubmap_dataset_publication_status",
         "rawType": "float64",
         "type": "float"
        },
        {
         "name": "is_rui_registered",
         "rawType": "bool",
         "type": "boolean"
        },
        {
         "name": "is_atlas_dataset",
         "rawType": "bool",
         "type": "boolean"
        }
       ],
       "conversionMethod": "pd.DataFrame",
       "ref": "53fa474f-68e0-4e0e-b3cc-481be74d35ac",
       "rows": [
        [
         "0",
         "KPMP",
         null,
         "http://dx.doi.org/10.1681/ASN.2016091027",
         null,
         null,
         "Donor1",
         "Male",
         null,
         null,
         null,
         null,
         "right kidney",
         "3d-vh-m-kidney-r.glb",
         "Donor1_TissueBlock1",
         "1.9794047017195973",
         "1.0",
         null,
         "kidney",
         null,
         "UBERON:0002113",
         null,
         "http://dx.doi.org/10.1681/ASN.2016091027#Donor1_TissueBlock1_TissueBlock1_Dataset1",
         "http://dx.doi.org/10.1681/ASN.2016091027#Donor1_TissueBlock1_TissueBlock1_Dataset1",
         "http://dx.doi.org/10.1681/ASN.2016091027",
         null,
         null,
         null,
         null,
         null,
         null,
         "True",
         "False"
        ],
        [
         "1",
         "KPMP",
         null,
         "http://dx.doi.org/10.1681/ASN.2016091027",
         null,
         null,
         "Donor2",
         "Male",
         null,
         null,
         null,
         null,
         "right kidney",
         "3d-vh-m-kidney-r.glb",
         "Donor2_TissueBlock1",
         "0.5009041281806214",
         "1.0",
         null,
         "kidney",
         null,
         "UBERON:0002113",
         null,
         "http://dx.doi.org/10.1681/ASN.2016091027#Donor2_TissueBlock1_TissueBlock1_Dataset1",
         "http://dx.doi.org/10.1681/ASN.2016091027#Donor2_TissueBlock1_TissueBlock1_Dataset1",
         "http://dx.doi.org/10.1681/ASN.2016091027",
         null,
         null,
         null,
         null,
         null,
         null,
         "True",
         "False"
        ],
        [
         "2",
         "KPMP",
         null,
         "http://dx.doi.org/10.1681/ASN.2016091027",
         null,
         null,
         "Donor3",
         "Male",
         null,
         null,
         null,
         null,
         "right kidney",
         "3d-vh-m-kidney-r.glb",
         "Donor3_TissueBlock1",
         "0.4962627559535145",
         "1.0",
         null,
         "kidney",
         null,
         "UBERON:0002113",
         null,
         "http://dx.doi.org/10.1681/ASN.2016091027#Donor3_TissueBlock1_TissueBlock1_Dataset1",
         "http://dx.doi.org/10.1681/ASN.2016091027#Donor3_TissueBlock1_TissueBlock1_Dataset1",
         "http://dx.doi.org/10.1016/j.trsl.2017.07.006",
         null,
         null,
         null,
         null,
         null,
         null,
         "True",
         "False"
        ],
        [
         "3",
         "HRA",
         null,
         null,
         null,
         null,
         "Donor1",
         "Female",
         "38.0",
         null,
         null,
         null,
         "mesenteric lymph node",
         "3d-nih-f-lymph-node.glb",
         "Donor1_TissueBlock1",
         "2508.0",
         "7.0",
         "6.0",
         "medulla of lymph node; capsule of lymph node; lymph vasculature; afferent lymphatic vessel; efferent lymphatic vessel; lymph node T cell domain; lymph node follicle",
         "capsule of lymph node; medulla of lymph node; Lymph vasculature; lymph node T cell domain; efferent lymphatic vessel; lymph node follicle",
         "UBERON:0002007; UBERON:0002194; UBERON:0004536; UBERON:0010396; UBERON:0010397; UBERON:0010417; UBERON:0010748",
         "UBERON:0002194; UBERON:0002007; UBERON:0004536; UBERON:0010417; UBERON:0010397; UBERON:0010748",
         "http://purl.org/ccf/1.5/omap-1#Donor1_TissueBlock1_TissueBlock1_Dataset1",
         "http://purl.org/ccf/1.5/omap-1#Donor1_TissueBlock1_TissueBlock1_Dataset1",
         "https://hubmapconsortium.github.io/ccf-releases/v1.4/docs/omap/omap-1-human-lymph-node-ibex.html",
         null,
         null,
         null,
         null,
         null,
         null,
         "True",
         "False"
        ],
        [
         "4",
         "HIRN, ESPACE",
         null,
         "https://doi.org/10.5281/zenodo.7742474",
         null,
         null,
         "Donor1",
         "Male",
         null,
         null,
         null,
         null,
         "pancreas",
         "3d-vh-m-pancreas.glb",
         "Donor1_TissueBlock1",
         "0.2512805",
         "1.0",
         "1.0",
         "tail of pancreas",
         "tail of pancreas",
         "UBERON:0001151",
         "UBERON:0001151",
         "http://purl.org/ccf/1.5/omap-6#Donor1_TissueBlock1_TissueBlock1_Dataset1",
         "http://purl.org/ccf/1.5/omap-6#Donor1_TissueBlock1_TissueBlock1_Dataset1",
         "https://zenodo.org/record/7742474",
         null,
         null,
         null,
         null,
         null,
         null,
         "True",
         "False"
        ]
       ],
       "shape": {
        "columns": 32,
        "rows": 5
       }
      },
      "text/html": [
       "<div>\n",
       "<style scoped>\n",
       "    .dataframe tbody tr th:only-of-type {\n",
       "        vertical-align: middle;\n",
       "    }\n",
       "\n",
       "    .dataframe tbody tr th {\n",
       "        vertical-align: top;\n",
       "    }\n",
       "\n",
       "    .dataframe thead th {\n",
       "        text-align: right;\n",
       "    }\n",
       "</style>\n",
       "<table border=\"1\" class=\"dataframe\">\n",
       "  <thead>\n",
       "    <tr style=\"text-align: right;\">\n",
       "      <th></th>\n",
       "      <th>portal</th>\n",
       "      <th>study_paper</th>\n",
       "      <th>doi</th>\n",
       "      <th>lead_author</th>\n",
       "      <th>is_azimuth_reference</th>\n",
       "      <th>donor_id</th>\n",
       "      <th>donor_sex</th>\n",
       "      <th>donor_age</th>\n",
       "      <th>donor_development_stage</th>\n",
       "      <th>donor_race</th>\n",
       "      <th>...</th>\n",
       "      <th>unique_dataset_id</th>\n",
       "      <th>link_to_h5ad_file</th>\n",
       "      <th>sc_transcriptomics_or_sc_proteomics</th>\n",
       "      <th>cell_type_annotation_tool</th>\n",
       "      <th>omap_id</th>\n",
       "      <th>number_of_cells_total</th>\n",
       "      <th>number_of_unique_cell_types</th>\n",
       "      <th>hubmap_dataset_publication_status</th>\n",
       "      <th>is_rui_registered</th>\n",
       "      <th>is_atlas_dataset</th>\n",
       "    </tr>\n",
       "  </thead>\n",
       "  <tbody>\n",
       "    <tr>\n",
       "      <th>0</th>\n",
       "      <td>KPMP</td>\n",
       "      <td>NaN</td>\n",
       "      <td>http://dx.doi.org/10.1681/ASN.2016091027</td>\n",
       "      <td>NaN</td>\n",
       "      <td>NaN</td>\n",
       "      <td>Donor1</td>\n",
       "      <td>Male</td>\n",
       "      <td>NaN</td>\n",
       "      <td>NaN</td>\n",
       "      <td>NaN</td>\n",
       "      <td>...</td>\n",
       "      <td>http://dx.doi.org/10.1681/ASN.2016091027#Donor...</td>\n",
       "      <td>http://dx.doi.org/10.1681/ASN.2016091027</td>\n",
       "      <td>NaN</td>\n",
       "      <td>NaN</td>\n",
       "      <td>NaN</td>\n",
       "      <td>NaN</td>\n",
       "      <td>NaN</td>\n",
       "      <td>NaN</td>\n",
       "      <td>True</td>\n",
       "      <td>False</td>\n",
       "    </tr>\n",
       "    <tr>\n",
       "      <th>1</th>\n",
       "      <td>KPMP</td>\n",
       "      <td>NaN</td>\n",
       "      <td>http://dx.doi.org/10.1681/ASN.2016091027</td>\n",
       "      <td>NaN</td>\n",
       "      <td>NaN</td>\n",
       "      <td>Donor2</td>\n",
       "      <td>Male</td>\n",
       "      <td>NaN</td>\n",
       "      <td>NaN</td>\n",
       "      <td>NaN</td>\n",
       "      <td>...</td>\n",
       "      <td>http://dx.doi.org/10.1681/ASN.2016091027#Donor...</td>\n",
       "      <td>http://dx.doi.org/10.1681/ASN.2016091027</td>\n",
       "      <td>NaN</td>\n",
       "      <td>NaN</td>\n",
       "      <td>NaN</td>\n",
       "      <td>NaN</td>\n",
       "      <td>NaN</td>\n",
       "      <td>NaN</td>\n",
       "      <td>True</td>\n",
       "      <td>False</td>\n",
       "    </tr>\n",
       "    <tr>\n",
       "      <th>2</th>\n",
       "      <td>KPMP</td>\n",
       "      <td>NaN</td>\n",
       "      <td>http://dx.doi.org/10.1681/ASN.2016091027</td>\n",
       "      <td>NaN</td>\n",
       "      <td>NaN</td>\n",
       "      <td>Donor3</td>\n",
       "      <td>Male</td>\n",
       "      <td>NaN</td>\n",
       "      <td>NaN</td>\n",
       "      <td>NaN</td>\n",
       "      <td>...</td>\n",
       "      <td>http://dx.doi.org/10.1681/ASN.2016091027#Donor...</td>\n",
       "      <td>http://dx.doi.org/10.1016/j.trsl.2017.07.006</td>\n",
       "      <td>NaN</td>\n",
       "      <td>NaN</td>\n",
       "      <td>NaN</td>\n",
       "      <td>NaN</td>\n",
       "      <td>NaN</td>\n",
       "      <td>NaN</td>\n",
       "      <td>True</td>\n",
       "      <td>False</td>\n",
       "    </tr>\n",
       "    <tr>\n",
       "      <th>3</th>\n",
       "      <td>HRA</td>\n",
       "      <td>NaN</td>\n",
       "      <td>NaN</td>\n",
       "      <td>NaN</td>\n",
       "      <td>NaN</td>\n",
       "      <td>Donor1</td>\n",
       "      <td>Female</td>\n",
       "      <td>38.0</td>\n",
       "      <td>NaN</td>\n",
       "      <td>NaN</td>\n",
       "      <td>...</td>\n",
       "      <td>http://purl.org/ccf/1.5/omap-1#Donor1_TissueBl...</td>\n",
       "      <td>https://hubmapconsortium.github.io/ccf-release...</td>\n",
       "      <td>NaN</td>\n",
       "      <td>NaN</td>\n",
       "      <td>NaN</td>\n",
       "      <td>NaN</td>\n",
       "      <td>NaN</td>\n",
       "      <td>NaN</td>\n",
       "      <td>True</td>\n",
       "      <td>False</td>\n",
       "    </tr>\n",
       "    <tr>\n",
       "      <th>4</th>\n",
       "      <td>HIRN, ESPACE</td>\n",
       "      <td>NaN</td>\n",
       "      <td>https://doi.org/10.5281/zenodo.7742474</td>\n",
       "      <td>NaN</td>\n",
       "      <td>NaN</td>\n",
       "      <td>Donor1</td>\n",
       "      <td>Male</td>\n",
       "      <td>NaN</td>\n",
       "      <td>NaN</td>\n",
       "      <td>NaN</td>\n",
       "      <td>...</td>\n",
       "      <td>http://purl.org/ccf/1.5/omap-6#Donor1_TissueBl...</td>\n",
       "      <td>https://zenodo.org/record/7742474</td>\n",
       "      <td>NaN</td>\n",
       "      <td>NaN</td>\n",
       "      <td>NaN</td>\n",
       "      <td>NaN</td>\n",
       "      <td>NaN</td>\n",
       "      <td>NaN</td>\n",
       "      <td>True</td>\n",
       "      <td>False</td>\n",
       "    </tr>\n",
       "  </tbody>\n",
       "</table>\n",
       "<p>5 rows × 32 columns</p>\n",
       "</div>"
      ],
      "text/plain": [
       "         portal study_paper                                       doi  \\\n",
       "0          KPMP         NaN  http://dx.doi.org/10.1681/ASN.2016091027   \n",
       "1          KPMP         NaN  http://dx.doi.org/10.1681/ASN.2016091027   \n",
       "2          KPMP         NaN  http://dx.doi.org/10.1681/ASN.2016091027   \n",
       "3           HRA         NaN                                       NaN   \n",
       "4  HIRN, ESPACE         NaN    https://doi.org/10.5281/zenodo.7742474   \n",
       "\n",
       "  lead_author  is_azimuth_reference donor_id donor_sex  donor_age  \\\n",
       "0         NaN                   NaN   Donor1      Male        NaN   \n",
       "1         NaN                   NaN   Donor2      Male        NaN   \n",
       "2         NaN                   NaN   Donor3      Male        NaN   \n",
       "3         NaN                   NaN   Donor1    Female       38.0   \n",
       "4         NaN                   NaN   Donor1      Male        NaN   \n",
       "\n",
       "   donor_development_stage donor_race  ...  \\\n",
       "0                      NaN        NaN  ...   \n",
       "1                      NaN        NaN  ...   \n",
       "2                      NaN        NaN  ...   \n",
       "3                      NaN        NaN  ...   \n",
       "4                      NaN        NaN  ...   \n",
       "\n",
       "                                   unique_dataset_id  \\\n",
       "0  http://dx.doi.org/10.1681/ASN.2016091027#Donor...   \n",
       "1  http://dx.doi.org/10.1681/ASN.2016091027#Donor...   \n",
       "2  http://dx.doi.org/10.1681/ASN.2016091027#Donor...   \n",
       "3  http://purl.org/ccf/1.5/omap-1#Donor1_TissueBl...   \n",
       "4  http://purl.org/ccf/1.5/omap-6#Donor1_TissueBl...   \n",
       "\n",
       "                                   link_to_h5ad_file  \\\n",
       "0           http://dx.doi.org/10.1681/ASN.2016091027   \n",
       "1           http://dx.doi.org/10.1681/ASN.2016091027   \n",
       "2       http://dx.doi.org/10.1016/j.trsl.2017.07.006   \n",
       "3  https://hubmapconsortium.github.io/ccf-release...   \n",
       "4                  https://zenodo.org/record/7742474   \n",
       "\n",
       "  sc_transcriptomics_or_sc_proteomics cell_type_annotation_tool  omap_id  \\\n",
       "0                                 NaN                       NaN      NaN   \n",
       "1                                 NaN                       NaN      NaN   \n",
       "2                                 NaN                       NaN      NaN   \n",
       "3                                 NaN                       NaN      NaN   \n",
       "4                                 NaN                       NaN      NaN   \n",
       "\n",
       "   number_of_cells_total  number_of_unique_cell_types  \\\n",
       "0                    NaN                          NaN   \n",
       "1                    NaN                          NaN   \n",
       "2                    NaN                          NaN   \n",
       "3                    NaN                          NaN   \n",
       "4                    NaN                          NaN   \n",
       "\n",
       "  hubmap_dataset_publication_status is_rui_registered is_atlas_dataset  \n",
       "0                               NaN              True            False  \n",
       "1                               NaN              True            False  \n",
       "2                               NaN              True            False  \n",
       "3                               NaN              True            False  \n",
       "4                               NaN              True            False  \n",
       "\n",
       "[5 rows x 32 columns]"
      ]
     },
     "execution_count": 4,
     "metadata": {},
     "output_type": "execute_result"
    }
   ],
   "source": [
    "sankey = pd.read_csv(f\"../../hra-pop/output-data/{hra_pop_version}/reports/universe-ad-hoc/sankey.csv\")\n",
    "\n",
    "# View first few rows\n",
    "sankey.head()"
   ]
  },
  {
   "cell_type": "code",
   "execution_count": 5,
   "metadata": {},
   "outputs": [],
   "source": [
    "# unique cells\n",
    "universe_sc_transcriptomics_cell_counts = pd.read_csv(\n",
    "    'https://raw.githubusercontent.com/x-atlas-consortia/hra-pop/refs/heads/main/output-data/v0.11.1/reports/universe-ad-hoc/universe-sc-transcriptomics-cell-counts.csv', index_col=False)\n",
    "universe_sc_proteomics_cell_counts = pd.read_csv(\n",
    "    'https://raw.githubusercontent.com/x-atlas-consortia/hra-pop/refs/heads/main/output-data/v0.11.1/reports/universe-ad-hoc/universe-sc-proteomics-cell-counts.csv', index_col=False)\n",
    "universe_sc_transcriptomics_cell_instance_counts = pd.read_csv(\n",
    "    'https://raw.githubusercontent.com/x-atlas-consortia/hra-pop/refs/heads/main/output-data/v0.11.1/reports/universe-ad-hoc/universe-sc-transcriptomics-cell-instance-counts.csv', index_col=False)"
   ]
  },
  {
   "cell_type": "markdown",
   "metadata": {},
   "source": [
    "# Pre-processing steps"
   ]
  },
  {
   "cell_type": "markdown",
   "metadata": {},
   "source": [
    "## Simplify rows with multiple annotations for getting accurate counts"
   ]
  },
  {
   "cell_type": "code",
   "execution_count": 6,
   "metadata": {},
   "outputs": [],
   "source": [
    "tool_replacement = \"sc_transcriptomics with Cell Summary\"\n",
    "\n",
    "sankey['cell_type_annotation_tool'] = sankey['cell_type_annotation_tool'].replace({\n",
    "    'azimuth': tool_replacement,\n",
    "    'celltypist': tool_replacement,\n",
    "    'popv': tool_replacement,\n",
    "    np.nan: \"No Cell Summary\"\n",
    "})"
   ]
  },
  {
   "cell_type": "markdown",
   "metadata": {},
   "source": [
    "## Manually fix missing cell type annotation values for SenNet atlas datasets"
   ]
  },
  {
   "cell_type": "markdown",
   "metadata": {},
   "source": [
    "See GitHub issue: https://github.com/x-atlas-consortia/hra-pop/issues/91"
   ]
  },
  {
   "cell_type": "code",
   "execution_count": 7,
   "metadata": {},
   "outputs": [],
   "source": [
    "# Define the indexing criteria\n",
    "criteria = (sankey['portal'] == \"SenNet\") & (\n",
    "    sankey['is_atlas_dataset'] == True)\n",
    "\n",
    "# Apply the change to the SenNet atlas datasets (2 as of HRApop v0.10.2)\n",
    "sankey.loc[criteria, 'cell_type_annotation_tool'] = tool_replacement\n",
    "\n",
    "sankey = sankey.drop_duplicates()"
   ]
  },
  {
   "cell_type": "markdown",
   "metadata": {},
   "source": [
    "# Get counts for HRApop paper"
   ]
  },
  {
   "cell_type": "markdown",
   "metadata": {},
   "source": [
    "The following sections provide counts of datasets and other metrics for HRApop v0.10.2."
   ]
  },
  {
   "cell_type": "markdown",
   "metadata": {},
   "source": [
    "## Report numbers for Highlights"
   ]
  },
  {
   "cell_type": "code",
   "execution_count": 8,
   "metadata": {},
   "outputs": [
    {
     "name": "stdout",
     "output_type": "stream",
     "text": [
      "Number of UNIVERSE datasets: 11817\n"
     ]
    }
   ],
   "source": [
    "# All datasets downloaded and retrieved from extraction sites\n",
    "all_datasets = sankey['unique_dataset_id'].unique()\n",
    "\n",
    "print(f\"Number of UNIVERSE datasets: {len(all_datasets)}\")"
   ]
  },
  {
   "cell_type": "code",
   "execution_count": 9,
   "metadata": {},
   "outputs": [
    {
     "name": "stdout",
     "output_type": "stream",
     "text": [
      "Number of sc-proteomics datasets: 107\n"
     ]
    }
   ],
   "source": [
    "# All sc-proteomics\n",
    "all_sc_proteomics = sankey[['dataset_id', 'cell_type_annotation_tool']\n",
    "                           ].loc[sankey['cell_type_annotation_tool'] == \"sc_proteomics\"].drop_duplicates()\n",
    "\n",
    "print(f\"Number of sc-proteomics datasets: {len(all_sc_proteomics)}\")"
   ]
  },
  {
   "cell_type": "code",
   "execution_count": 10,
   "metadata": {},
   "outputs": [
    {
     "name": "stdout",
     "output_type": "stream",
     "text": [
      "Number of sc-transcriptomics datasets with cell summary: 5587\n"
     ]
    }
   ],
   "source": [
    "# All datasets with cell summary\n",
    "sc_transcriptomics_with_cell_summary = sankey[['unique_dataset_id', 'cell_type_annotation_tool']].loc[\n",
    "    sankey['cell_type_annotation_tool'] == tool_replacement]['unique_dataset_id'].drop_duplicates()\n",
    "\n",
    "print(f\"Number of sc-transcriptomics datasets with cell summary: {len(sc_transcriptomics_with_cell_summary)}\")"
   ]
  },
  {
   "cell_type": "markdown",
   "metadata": {},
   "source": [
    "## Report numbers for Sankey/experimental data"
   ]
  },
  {
   "cell_type": "code",
   "execution_count": 11,
   "metadata": {},
   "outputs": [
    {
     "name": "stdout",
     "output_type": "stream",
     "text": [
      "Atlas datasets: 619\n",
      "\n",
      "Datasets with extraction site but without cell summary: 3799\n",
      "\n",
      "Datasets with cell summary but without extraction site: 5075\n",
      "\n",
      "Datasets with neither: 2324\n",
      "\n",
      "Non-atlas datasets total: 11198\n",
      "\n",
      "Unique cells from sc-transcriptomics datasets in the Universe: 33996049\n",
      "\n",
      "Unique cells from sc-transcriptomics datasets in the Universe (preannotated): 34066061\n",
      "\n",
      "Unique cells from sc-proteomics datasets in the Universe: 17547511\n",
      "\n"
     ]
    }
   ],
   "source": [
    "# atlas datasets\n",
    "atlas = sankey.loc[sankey['is_atlas_dataset'] == True]['unique_dataset_id'].unique()\n",
    "print(f\"Atlas datasets: {len(atlas)}\\n\")\n",
    "\n",
    "# datasets with extraction site but without cell summary\n",
    "no_cell_summary = sankey.loc[(sankey['is_rui_registered'] == True) & (\n",
    "    sankey['cell_type_annotation_tool'] == \"No Cell Summary\")]['unique_dataset_id'].unique()\n",
    "print(f\"Datasets with extraction site but without cell summary: {\n",
    "      len(no_cell_summary)}\\n\")\n",
    "\n",
    "# datasets with cell summary but without extraction site\n",
    "no_rui = sankey.loc[(sankey['is_rui_registered'] ==False) & (\n",
    "    sankey['cell_type_annotation_tool'] != \"No Cell Summary\")]\n",
    "print(f\"Datasets with cell summary but without extraction site: {\n",
    "      len(no_rui)}\\n\")\n",
    "\n",
    "# datasets with neither\n",
    "non_atlas_without_either = sankey.loc[(sankey['cell_type_annotation_tool'] == \"No Cell Summary\") & (sankey['is_rui_registered'] == False)]\n",
    "print(f\"Datasets with neither: {len(non_atlas_without_either)}\\n\")\n",
    "\n",
    "# non-atlas datasets total\n",
    "non_atlas_total = sankey.loc[(\n",
    "    sankey['is_atlas_dataset'] == False)]['unique_dataset_id'].unique()\n",
    "print(f\"Non-atlas datasets total: {len(non_atlas_total)}\\n\")\n",
    "\n",
    "# unique cells\n",
    "sc_transcriptomics_cell_counts = universe_sc_transcriptomics_cell_counts[\n",
    "    'universe_sc_transcriptomics_cell_count'].iloc[0]\n",
    "print(\n",
    "    f'Unique cells from sc-transcriptomics datasets in the Universe: {sc_transcriptomics_cell_counts}\\n')\n",
    "\n",
    "sc_transcriptomics_cell_counts_preannotated = universe_sc_transcriptomics_cell_counts[\n",
    "    'universe_sc_transcriptomics_preannotated_cell_count'].iloc[0]\n",
    "print(\n",
    "    f'Unique cells from sc-transcriptomics datasets in the Universe (preannotated): {sc_transcriptomics_cell_counts_preannotated}\\n')\n",
    "\n",
    "sc_proteomics_cell_counts = universe_sc_proteomics_cell_counts[\n",
    "    'universe_sc_proteomics_cell_count'].iloc[0]\n",
    "print(\n",
    "    f'Unique cells from sc-proteomics datasets in the Universe: {sc_proteomics_cell_counts}\\n')\n",
    "\n",
    "atlas_cell_count = sankey['is_atlas_dataset' == True]['']"
   ]
  },
  {
   "cell_type": "markdown",
   "metadata": {},
   "source": [
    "## AS Counts"
   ]
  },
  {
   "cell_type": "code",
   "execution_count": 12,
   "metadata": {},
   "outputs": [
    {
     "data": {
      "application/vnd.microsoft.datawrangler.viewer.v0+json": {
       "columns": [
        {
         "name": "index",
         "rawType": "int64",
         "type": "integer"
        },
        {
         "name": "organ",
         "rawType": "object",
         "type": "string"
        },
        {
         "name": "as",
         "rawType": "object",
         "type": "string"
        },
        {
         "name": "as_label",
         "rawType": "object",
         "type": "string"
        },
        {
         "name": "sex",
         "rawType": "object",
         "type": "string"
        },
        {
         "name": "tool",
         "rawType": "object",
         "type": "string"
        },
        {
         "name": "modality",
         "rawType": "object",
         "type": "string"
        },
        {
         "name": "cell_id",
         "rawType": "object",
         "type": "string"
        },
        {
         "name": "cell_label",
         "rawType": "object",
         "type": "string"
        },
        {
         "name": "cell_count",
         "rawType": "float64",
         "type": "float"
        },
        {
         "name": "cell_percentage",
         "rawType": "float64",
         "type": "float"
        }
       ],
       "conversionMethod": "pd.DataFrame",
       "ref": "dec4947d-f94c-4a72-abad-beb18443ba8a",
       "rows": [
        [
         "0",
         "Spatial entity of male colon",
         "http://purl.obolibrary.org/obo/UBERON_0001153",
         "caecum",
         "Female",
         "celltypist",
         "sc_transcriptomics",
         "https://purl.org/ccf/ASCTB-TEMP_smc-plpp2-",
         "SMC (PLPP2+)",
         "92.848",
         "0.1141401624673"
        ],
        [
         "1",
         "Spatial entity of female colon",
         "http://purl.obolibrary.org/obo/UBERON_0001153",
         "caecum",
         "Female",
         "celltypist",
         "sc_transcriptomics",
         "https://purl.org/ccf/ASCTB-TEMP_smc-plpp2-",
         "SMC (PLPP2+)",
         "92.848",
         "0.1141401624673"
        ],
        [
         "2",
         "Spatial entity of male colon",
         "http://purl.obolibrary.org/obo/UBERON_0001153",
         "caecum",
         "Female",
         "celltypist",
         "sc_transcriptomics",
         "https://purl.org/ccf/ASCTB-TEMP_cycling-plasma-cell",
         "Cycling plasma cell",
         "63.448",
         "0.07799807242186423"
        ],
        [
         "3",
         "Spatial entity of female colon",
         "http://purl.obolibrary.org/obo/UBERON_0001153",
         "caecum",
         "Female",
         "celltypist",
         "sc_transcriptomics",
         "https://purl.org/ccf/ASCTB-TEMP_cycling-plasma-cell",
         "Cycling plasma cell",
         "63.448",
         "0.07799807242186423"
        ],
        [
         "4",
         "Spatial entity of male colon",
         "http://purl.obolibrary.org/obo/UBERON_0001153",
         "caecum",
         "Female",
         "celltypist",
         "sc_transcriptomics",
         "https://purl.org/ccf/ASCTB-TEMP_mesoderm-1-hand1-",
         "Mesoderm 1 (HAND1+)",
         "57.40000000000001",
         "0.07056312818394603"
        ],
        [
         "5",
         "Spatial entity of female colon",
         "http://purl.obolibrary.org/obo/UBERON_0001153",
         "caecum",
         "Female",
         "celltypist",
         "sc_transcriptomics",
         "https://purl.org/ccf/ASCTB-TEMP_mesoderm-1-hand1-",
         "Mesoderm 1 (HAND1+)",
         "57.40000000000001",
         "0.07056312818394603"
        ],
        [
         "6",
         "Spatial entity of male colon",
         "http://purl.obolibrary.org/obo/UBERON_0001153",
         "caecum",
         "Female",
         "celltypist",
         "sc_transcriptomics",
         "https://purl.org/ccf/ASCTB-TEMP_colonocyte",
         "Colonocyte",
         "53.928",
         "0.06629491945477074"
        ],
        [
         "7",
         "Spatial entity of female colon",
         "http://purl.obolibrary.org/obo/UBERON_0001153",
         "caecum",
         "Female",
         "celltypist",
         "sc_transcriptomics",
         "https://purl.org/ccf/ASCTB-TEMP_colonocyte",
         "Colonocyte",
         "53.928",
         "0.06629491945477074"
        ],
        [
         "8",
         "Spatial entity of male colon",
         "http://purl.obolibrary.org/obo/UBERON_0001153",
         "caecum",
         "Female",
         "celltypist",
         "sc_transcriptomics",
         "https://purl.org/ccf/ASCTB-TEMP_goblet-cell",
         "Goblet cell",
         "49.28",
         "0.06058102712377805"
        ],
        [
         "9",
         "Spatial entity of female colon",
         "http://purl.obolibrary.org/obo/UBERON_0001153",
         "caecum",
         "Female",
         "celltypist",
         "sc_transcriptomics",
         "https://purl.org/ccf/ASCTB-TEMP_goblet-cell",
         "Goblet cell",
         "49.28",
         "0.06058102712377805"
        ],
        [
         "10",
         "Spatial entity of male colon",
         "http://purl.obolibrary.org/obo/UBERON_0001153",
         "caecum",
         "Female",
         "celltypist",
         "sc_transcriptomics",
         "https://purl.org/ccf/ASCTB-TEMP_myofibroblast",
         "myofibroblast",
         "33.65600000000001",
         "0.04137408784248933"
        ],
        [
         "11",
         "Spatial entity of female colon",
         "http://purl.obolibrary.org/obo/UBERON_0001153",
         "caecum",
         "Female",
         "celltypist",
         "sc_transcriptomics",
         "https://purl.org/ccf/ASCTB-TEMP_myofibroblast",
         "myofibroblast",
         "33.65600000000001",
         "0.04137408784248933"
        ],
        [
         "12",
         "Spatial entity of male colon",
         "http://purl.obolibrary.org/obo/UBERON_0001153",
         "caecum",
         "Female",
         "celltypist",
         "sc_transcriptomics",
         "https://purl.org/ccf/ASCTB-TEMP_myofibroblast-rspo2-",
         "myofibroblast (RSPO2+)",
         "30.576",
         "0.03758777364725319"
        ],
        [
         "13",
         "Spatial entity of female colon",
         "http://purl.obolibrary.org/obo/UBERON_0001153",
         "caecum",
         "Female",
         "celltypist",
         "sc_transcriptomics",
         "https://purl.org/ccf/ASCTB-TEMP_myofibroblast-rspo2-",
         "myofibroblast (RSPO2+)",
         "30.576",
         "0.03758777364725319"
        ],
        [
         "14",
         "Spatial entity of male colon",
         "http://purl.obolibrary.org/obo/UBERON_0001153",
         "caecum",
         "Female",
         "celltypist",
         "sc_transcriptomics",
         "https://purl.org/ccf/ASCTB-TEMP_activated-t",
         "Activated T",
         "29.064",
         "0.03572903758777364"
        ],
        [
         "15",
         "Spatial entity of female colon",
         "http://purl.obolibrary.org/obo/UBERON_0001153",
         "caecum",
         "Female",
         "celltypist",
         "sc_transcriptomics",
         "https://purl.org/ccf/ASCTB-TEMP_activated-t",
         "Activated T",
         "29.064",
         "0.03572903758777364"
        ],
        [
         "16",
         "Spatial entity of male colon",
         "http://purl.obolibrary.org/obo/UBERON_0001153",
         "caecum",
         "Female",
         "celltypist",
         "sc_transcriptomics",
         "https://purl.org/ccf/ASCTB-TEMP_microfold-cell",
         "Microfold cell",
         "21.56",
         "0.0265041993666529"
        ],
        [
         "17",
         "Spatial entity of female colon",
         "http://purl.obolibrary.org/obo/UBERON_0001153",
         "caecum",
         "Female",
         "celltypist",
         "sc_transcriptomics",
         "https://purl.org/ccf/ASCTB-TEMP_microfold-cell",
         "Microfold cell",
         "21.56",
         "0.0265041993666529"
        ],
        [
         "18",
         "Spatial entity of male colon",
         "http://purl.obolibrary.org/obo/UBERON_0001153",
         "caecum",
         "Female",
         "celltypist",
         "sc_transcriptomics",
         "https://purl.org/ccf/ASCTB-TEMP_tfh",
         "Tfh",
         "20.776",
         "0.02554041029877461"
        ],
        [
         "19",
         "Spatial entity of female colon",
         "http://purl.obolibrary.org/obo/UBERON_0001153",
         "caecum",
         "Female",
         "celltypist",
         "sc_transcriptomics",
         "https://purl.org/ccf/ASCTB-TEMP_tfh",
         "Tfh",
         "20.776",
         "0.02554041029877461"
        ],
        [
         "20",
         "Spatial entity of male colon",
         "http://purl.obolibrary.org/obo/UBERON_0001153",
         "caecum",
         "Female",
         "celltypist",
         "sc_transcriptomics",
         "https://purl.org/ccf/ASCTB-TEMP_adult-glia",
         "Adult Glia",
         "20.44",
         "0.02512735784111248"
        ],
        [
         "21",
         "Spatial entity of female colon",
         "http://purl.obolibrary.org/obo/UBERON_0001153",
         "caecum",
         "Female",
         "celltypist",
         "sc_transcriptomics",
         "https://purl.org/ccf/ASCTB-TEMP_adult-glia",
         "Adult Glia",
         "20.44",
         "0.02512735784111248"
        ],
        [
         "22",
         "Spatial entity of male colon",
         "http://purl.obolibrary.org/obo/UBERON_0001153",
         "caecum",
         "Female",
         "celltypist",
         "sc_transcriptomics",
         "https://purl.org/ccf/ASCTB-TEMP_eecs",
         "EECs",
         "19.712",
         "0.02423241084951122"
        ],
        [
         "23",
         "Spatial entity of female colon",
         "http://purl.obolibrary.org/obo/UBERON_0001153",
         "caecum",
         "Female",
         "celltypist",
         "sc_transcriptomics",
         "https://purl.org/ccf/ASCTB-TEMP_eecs",
         "EECs",
         "19.712",
         "0.02423241084951122"
        ],
        [
         "24",
         "Spatial entity of male colon",
         "http://purl.obolibrary.org/obo/UBERON_0001153",
         "caecum",
         "Female",
         "celltypist",
         "sc_transcriptomics",
         "https://purl.org/ccf/ASCTB-TEMP_transitional-stromal-3-c3-",
         "Transitional Stromal 3 (C3+)",
         "16.016",
         "0.01968883381522786"
        ],
        [
         "25",
         "Spatial entity of female colon",
         "http://purl.obolibrary.org/obo/UBERON_0001153",
         "caecum",
         "Female",
         "celltypist",
         "sc_transcriptomics",
         "https://purl.org/ccf/ASCTB-TEMP_transitional-stromal-3-c3-",
         "Transitional Stromal 3 (C3+)",
         "16.016",
         "0.01968883381522786"
        ],
        [
         "26",
         "Spatial entity of male colon",
         "http://purl.obolibrary.org/obo/UBERON_0001153",
         "caecum",
         "Female",
         "celltypist",
         "sc_transcriptomics",
         "https://purl.org/ccf/ASCTB-TEMP_ta",
         "TA",
         "14.504",
         "0.01783009775574831"
        ],
        [
         "27",
         "Spatial entity of female colon",
         "http://purl.obolibrary.org/obo/UBERON_0001153",
         "caecum",
         "Female",
         "celltypist",
         "sc_transcriptomics",
         "https://purl.org/ccf/ASCTB-TEMP_ta",
         "TA",
         "14.504",
         "0.01783009775574831"
        ],
        [
         "28",
         "Spatial entity of male colon",
         "http://purl.obolibrary.org/obo/UBERON_0001153",
         "caecum",
         "Female",
         "celltypist",
         "sc_transcriptomics",
         "https://purl.org/ccf/ASCTB-TEMP_lec1-ackr4-",
         "LEC1 (ACKR4+)",
         "13.608",
         "0.01672862453531598"
        ],
        [
         "29",
         "Spatial entity of female colon",
         "http://purl.obolibrary.org/obo/UBERON_0001153",
         "caecum",
         "Female",
         "celltypist",
         "sc_transcriptomics",
         "https://purl.org/ccf/ASCTB-TEMP_lec1-ackr4-",
         "LEC1 (ACKR4+)",
         "13.608",
         "0.01672862453531598"
        ],
        [
         "30",
         "Spatial entity of male colon",
         "http://purl.obolibrary.org/obo/UBERON_0001153",
         "caecum",
         "Female",
         "celltypist",
         "sc_transcriptomics",
         "https://purl.org/ccf/ASCTB-TEMP_stem-cells",
         "Stem cells",
         "12.992",
         "0.01597136169626876"
        ],
        [
         "31",
         "Spatial entity of female colon",
         "http://purl.obolibrary.org/obo/UBERON_0001153",
         "caecum",
         "Female",
         "celltypist",
         "sc_transcriptomics",
         "https://purl.org/ccf/ASCTB-TEMP_stem-cells",
         "Stem cells",
         "12.992",
         "0.01597136169626876"
        ],
        [
         "32",
         "Spatial entity of male colon",
         "http://purl.obolibrary.org/obo/UBERON_0001153",
         "caecum",
         "Female",
         "celltypist",
         "sc_transcriptomics",
         "https://purl.org/ccf/ASCTB-TEMP_smc-part1-capn3-",
         "SMC (PART1/CAPN3+)",
         "11.704",
         "0.01438799394189729"
        ],
        [
         "33",
         "Spatial entity of female colon",
         "http://purl.obolibrary.org/obo/UBERON_0001153",
         "caecum",
         "Female",
         "celltypist",
         "sc_transcriptomics",
         "https://purl.org/ccf/ASCTB-TEMP_smc-part1-capn3-",
         "SMC (PART1/CAPN3+)",
         "11.704",
         "0.01438799394189729"
        ],
        [
         "34",
         "Spatial entity of male colon",
         "http://purl.obolibrary.org/obo/UBERON_0001153",
         "caecum",
         "Female",
         "celltypist",
         "sc_transcriptomics",
         "https://purl.org/ccf/ASCTB-TEMP_arterial-capillary",
         "arterial capillary",
         "10.024",
         "0.01232273165358667"
        ],
        [
         "35",
         "Spatial entity of male colon",
         "http://purl.obolibrary.org/obo/UBERON_0001153",
         "caecum",
         "Female",
         "celltypist",
         "sc_transcriptomics",
         "https://purl.org/ccf/ASCTB-TEMP_proximal-progenitor",
         "Proximal progenitor",
         "10.024",
         "0.01232273165358667"
        ],
        [
         "36",
         "Spatial entity of female colon",
         "http://purl.obolibrary.org/obo/UBERON_0001153",
         "caecum",
         "Female",
         "celltypist",
         "sc_transcriptomics",
         "https://purl.org/ccf/ASCTB-TEMP_arterial-capillary",
         "arterial capillary",
         "10.024",
         "0.01232273165358667"
        ],
        [
         "37",
         "Spatial entity of female colon",
         "http://purl.obolibrary.org/obo/UBERON_0001153",
         "caecum",
         "Female",
         "celltypist",
         "sc_transcriptomics",
         "https://purl.org/ccf/ASCTB-TEMP_proximal-progenitor",
         "Proximal progenitor",
         "10.024",
         "0.01232273165358667"
        ],
        [
         "38",
         "Spatial entity of male colon",
         "http://purl.obolibrary.org/obo/UBERON_0001153",
         "caecum",
         "Female",
         "celltypist",
         "sc_transcriptomics",
         "https://purl.org/ccf/ASCTB-TEMP_contractile-pericyte-pln-",
         "Contractile pericyte (PLN+)",
         "9.856000000000002",
         "0.01211620542475561"
        ],
        [
         "39",
         "Spatial entity of female colon",
         "http://purl.obolibrary.org/obo/UBERON_0001153",
         "caecum",
         "Female",
         "celltypist",
         "sc_transcriptomics",
         "https://purl.org/ccf/ASCTB-TEMP_contractile-pericyte-pln-",
         "Contractile pericyte (PLN+)",
         "9.856000000000002",
         "0.01211620542475561"
        ],
        [
         "40",
         "Spatial entity of male colon",
         "http://purl.obolibrary.org/obo/UBERON_0001153",
         "caecum",
         "Female",
         "celltypist",
         "sc_transcriptomics",
         "https://purl.org/ccf/ASCTB-TEMP_stromal-3-kcnn3-",
         "Stromal 3 (KCNN3+)",
         "9.856",
         "0.01211620542475561"
        ],
        [
         "41",
         "Spatial entity of female colon",
         "http://purl.obolibrary.org/obo/UBERON_0001153",
         "caecum",
         "Female",
         "celltypist",
         "sc_transcriptomics",
         "https://purl.org/ccf/ASCTB-TEMP_stromal-3-kcnn3-",
         "Stromal 3 (KCNN3+)",
         "9.856",
         "0.01211620542475561"
        ],
        [
         "42",
         "Spatial entity of male colon",
         "http://purl.obolibrary.org/obo/UBERON_0001153",
         "caecum",
         "Female",
         "celltypist",
         "sc_transcriptomics",
         "https://purl.org/ccf/ASCTB-TEMP_trgv2-gdt",
         "TRGV2 gdT",
         "7.728",
         "0.009500206526228828"
        ],
        [
         "43",
         "Spatial entity of female colon",
         "http://purl.obolibrary.org/obo/UBERON_0001153",
         "caecum",
         "Female",
         "celltypist",
         "sc_transcriptomics",
         "https://purl.org/ccf/ASCTB-TEMP_trgv2-gdt",
         "TRGV2 gdT",
         "7.728",
         "0.009500206526228828"
        ],
        [
         "44",
         "Spatial entity of male colon",
         "http://purl.obolibrary.org/obo/UBERON_0001153",
         "caecum",
         "Female",
         "celltypist",
         "sc_transcriptomics",
         "https://purl.org/ccf/ASCTB-TEMP_stromal-3-c7-",
         "Stromal 3 (C7+)",
         "7.672000000000001",
         "0.00943136444995181"
        ],
        [
         "45",
         "Spatial entity of female colon",
         "http://purl.obolibrary.org/obo/UBERON_0001153",
         "caecum",
         "Female",
         "celltypist",
         "sc_transcriptomics",
         "https://purl.org/ccf/ASCTB-TEMP_stromal-3-c7-",
         "Stromal 3 (C7+)",
         "7.672000000000001",
         "0.00943136444995181"
        ],
        [
         "46",
         "Spatial entity of male colon",
         "http://purl.obolibrary.org/obo/UBERON_0001153",
         "caecum",
         "Female",
         "celltypist",
         "sc_transcriptomics",
         "https://purl.org/ccf/ASCTB-TEMP_iga-plasma-cell",
         "IgA plasma cell",
         "7.504",
         "0.009224838221120748"
        ],
        [
         "47",
         "Spatial entity of female colon",
         "http://purl.obolibrary.org/obo/UBERON_0001153",
         "caecum",
         "Female",
         "celltypist",
         "sc_transcriptomics",
         "https://purl.org/ccf/ASCTB-TEMP_iga-plasma-cell",
         "IgA plasma cell",
         "7.504",
         "0.009224838221120748"
        ],
        [
         "48",
         "Spatial entity of male colon",
         "http://purl.obolibrary.org/obo/UBERON_0001153",
         "caecum",
         "Female",
         "celltypist",
         "sc_transcriptomics",
         "https://purl.org/ccf/ASCTB-TEMP_lyve1-macrophage",
         "LYVE1+ Macrophage",
         "7.336",
         "0.009018311992289686"
        ],
        [
         "49",
         "Spatial entity of male colon",
         "http://purl.obolibrary.org/obo/UBERON_0001153",
         "caecum",
         "Female",
         "celltypist",
         "sc_transcriptomics",
         "https://purl.org/ccf/ASCTB-TEMP_best4-epithelial",
         "BEST4+ epithelial",
         "7.336",
         "0.009018311992289686"
        ]
       ],
       "shape": {
        "columns": 10,
        "rows": 8020
       }
      },
      "text/html": [
       "<div>\n",
       "<style scoped>\n",
       "    .dataframe tbody tr th:only-of-type {\n",
       "        vertical-align: middle;\n",
       "    }\n",
       "\n",
       "    .dataframe tbody tr th {\n",
       "        vertical-align: top;\n",
       "    }\n",
       "\n",
       "    .dataframe thead th {\n",
       "        text-align: right;\n",
       "    }\n",
       "</style>\n",
       "<table border=\"1\" class=\"dataframe\">\n",
       "  <thead>\n",
       "    <tr style=\"text-align: right;\">\n",
       "      <th></th>\n",
       "      <th>organ</th>\n",
       "      <th>as</th>\n",
       "      <th>as_label</th>\n",
       "      <th>sex</th>\n",
       "      <th>tool</th>\n",
       "      <th>modality</th>\n",
       "      <th>cell_id</th>\n",
       "      <th>cell_label</th>\n",
       "      <th>cell_count</th>\n",
       "      <th>cell_percentage</th>\n",
       "    </tr>\n",
       "  </thead>\n",
       "  <tbody>\n",
       "    <tr>\n",
       "      <th>0</th>\n",
       "      <td>Spatial entity of male colon</td>\n",
       "      <td>http://purl.obolibrary.org/obo/UBERON_0001153</td>\n",
       "      <td>caecum</td>\n",
       "      <td>Female</td>\n",
       "      <td>celltypist</td>\n",
       "      <td>sc_transcriptomics</td>\n",
       "      <td>https://purl.org/ccf/ASCTB-TEMP_smc-plpp2-</td>\n",
       "      <td>SMC (PLPP2+)</td>\n",
       "      <td>92.848</td>\n",
       "      <td>0.114140</td>\n",
       "    </tr>\n",
       "    <tr>\n",
       "      <th>1</th>\n",
       "      <td>Spatial entity of female colon</td>\n",
       "      <td>http://purl.obolibrary.org/obo/UBERON_0001153</td>\n",
       "      <td>caecum</td>\n",
       "      <td>Female</td>\n",
       "      <td>celltypist</td>\n",
       "      <td>sc_transcriptomics</td>\n",
       "      <td>https://purl.org/ccf/ASCTB-TEMP_smc-plpp2-</td>\n",
       "      <td>SMC (PLPP2+)</td>\n",
       "      <td>92.848</td>\n",
       "      <td>0.114140</td>\n",
       "    </tr>\n",
       "    <tr>\n",
       "      <th>2</th>\n",
       "      <td>Spatial entity of male colon</td>\n",
       "      <td>http://purl.obolibrary.org/obo/UBERON_0001153</td>\n",
       "      <td>caecum</td>\n",
       "      <td>Female</td>\n",
       "      <td>celltypist</td>\n",
       "      <td>sc_transcriptomics</td>\n",
       "      <td>https://purl.org/ccf/ASCTB-TEMP_cycling-plasma...</td>\n",
       "      <td>Cycling plasma cell</td>\n",
       "      <td>63.448</td>\n",
       "      <td>0.077998</td>\n",
       "    </tr>\n",
       "    <tr>\n",
       "      <th>3</th>\n",
       "      <td>Spatial entity of female colon</td>\n",
       "      <td>http://purl.obolibrary.org/obo/UBERON_0001153</td>\n",
       "      <td>caecum</td>\n",
       "      <td>Female</td>\n",
       "      <td>celltypist</td>\n",
       "      <td>sc_transcriptomics</td>\n",
       "      <td>https://purl.org/ccf/ASCTB-TEMP_cycling-plasma...</td>\n",
       "      <td>Cycling plasma cell</td>\n",
       "      <td>63.448</td>\n",
       "      <td>0.077998</td>\n",
       "    </tr>\n",
       "    <tr>\n",
       "      <th>4</th>\n",
       "      <td>Spatial entity of male colon</td>\n",
       "      <td>http://purl.obolibrary.org/obo/UBERON_0001153</td>\n",
       "      <td>caecum</td>\n",
       "      <td>Female</td>\n",
       "      <td>celltypist</td>\n",
       "      <td>sc_transcriptomics</td>\n",
       "      <td>https://purl.org/ccf/ASCTB-TEMP_mesoderm-1-hand1-</td>\n",
       "      <td>Mesoderm 1 (HAND1+)</td>\n",
       "      <td>57.400</td>\n",
       "      <td>0.070563</td>\n",
       "    </tr>\n",
       "    <tr>\n",
       "      <th>...</th>\n",
       "      <td>...</td>\n",
       "      <td>...</td>\n",
       "      <td>...</td>\n",
       "      <td>...</td>\n",
       "      <td>...</td>\n",
       "      <td>...</td>\n",
       "      <td>...</td>\n",
       "      <td>...</td>\n",
       "      <td>...</td>\n",
       "      <td>...</td>\n",
       "    </tr>\n",
       "    <tr>\n",
       "      <th>8015</th>\n",
       "      <td>Spatial entity of male male reproductive system</td>\n",
       "      <td>http://purl.obolibrary.org/obo/UBERON_8410027</td>\n",
       "      <td>central zone of prostate</td>\n",
       "      <td>Male</td>\n",
       "      <td>popv</td>\n",
       "      <td>sc_transcriptomics</td>\n",
       "      <td>http://purl.obolibrary.org/obo/CL_0000625</td>\n",
       "      <td>CD8-positive, alpha-beta T cell</td>\n",
       "      <td>52.962</td>\n",
       "      <td>0.018737</td>\n",
       "    </tr>\n",
       "    <tr>\n",
       "      <th>8016</th>\n",
       "      <td>Spatial entity of male male reproductive system</td>\n",
       "      <td>http://purl.obolibrary.org/obo/UBERON_8410027</td>\n",
       "      <td>central zone of prostate</td>\n",
       "      <td>Male</td>\n",
       "      <td>popv</td>\n",
       "      <td>sc_transcriptomics</td>\n",
       "      <td>http://purl.obolibrary.org/obo/CL_0000576</td>\n",
       "      <td>monocyte</td>\n",
       "      <td>52.052</td>\n",
       "      <td>0.018415</td>\n",
       "    </tr>\n",
       "    <tr>\n",
       "      <th>8017</th>\n",
       "      <td>Spatial entity of male male reproductive system</td>\n",
       "      <td>http://purl.obolibrary.org/obo/UBERON_8410027</td>\n",
       "      <td>central zone of prostate</td>\n",
       "      <td>Male</td>\n",
       "      <td>popv</td>\n",
       "      <td>sc_transcriptomics</td>\n",
       "      <td>http://purl.obolibrary.org/obo/CL_0000235</td>\n",
       "      <td>macrophage</td>\n",
       "      <td>34.762</td>\n",
       "      <td>0.012298</td>\n",
       "    </tr>\n",
       "    <tr>\n",
       "      <th>8018</th>\n",
       "      <td>Spatial entity of male male reproductive system</td>\n",
       "      <td>http://purl.obolibrary.org/obo/UBERON_8410027</td>\n",
       "      <td>central zone of prostate</td>\n",
       "      <td>Male</td>\n",
       "      <td>popv</td>\n",
       "      <td>sc_transcriptomics</td>\n",
       "      <td>http://purl.obolibrary.org/obo/CL_0000066</td>\n",
       "      <td>epithelial cell</td>\n",
       "      <td>11.830</td>\n",
       "      <td>0.004185</td>\n",
       "    </tr>\n",
       "    <tr>\n",
       "      <th>8019</th>\n",
       "      <td>Spatial entity of male male reproductive system</td>\n",
       "      <td>http://purl.obolibrary.org/obo/UBERON_8410027</td>\n",
       "      <td>central zone of prostate</td>\n",
       "      <td>Male</td>\n",
       "      <td>popv</td>\n",
       "      <td>sc_transcriptomics</td>\n",
       "      <td>http://purl.obolibrary.org/obo/CL_0000814</td>\n",
       "      <td>mature NK T cell</td>\n",
       "      <td>10.192</td>\n",
       "      <td>0.003606</td>\n",
       "    </tr>\n",
       "  </tbody>\n",
       "</table>\n",
       "<p>8020 rows × 10 columns</p>\n",
       "</div>"
      ],
      "text/plain": [
       "                                                organ  \\\n",
       "0                        Spatial entity of male colon   \n",
       "1                      Spatial entity of female colon   \n",
       "2                        Spatial entity of male colon   \n",
       "3                      Spatial entity of female colon   \n",
       "4                        Spatial entity of male colon   \n",
       "...                                               ...   \n",
       "8015  Spatial entity of male male reproductive system   \n",
       "8016  Spatial entity of male male reproductive system   \n",
       "8017  Spatial entity of male male reproductive system   \n",
       "8018  Spatial entity of male male reproductive system   \n",
       "8019  Spatial entity of male male reproductive system   \n",
       "\n",
       "                                                 as                  as_label  \\\n",
       "0     http://purl.obolibrary.org/obo/UBERON_0001153                    caecum   \n",
       "1     http://purl.obolibrary.org/obo/UBERON_0001153                    caecum   \n",
       "2     http://purl.obolibrary.org/obo/UBERON_0001153                    caecum   \n",
       "3     http://purl.obolibrary.org/obo/UBERON_0001153                    caecum   \n",
       "4     http://purl.obolibrary.org/obo/UBERON_0001153                    caecum   \n",
       "...                                             ...                       ...   \n",
       "8015  http://purl.obolibrary.org/obo/UBERON_8410027  central zone of prostate   \n",
       "8016  http://purl.obolibrary.org/obo/UBERON_8410027  central zone of prostate   \n",
       "8017  http://purl.obolibrary.org/obo/UBERON_8410027  central zone of prostate   \n",
       "8018  http://purl.obolibrary.org/obo/UBERON_8410027  central zone of prostate   \n",
       "8019  http://purl.obolibrary.org/obo/UBERON_8410027  central zone of prostate   \n",
       "\n",
       "         sex        tool            modality  \\\n",
       "0     Female  celltypist  sc_transcriptomics   \n",
       "1     Female  celltypist  sc_transcriptomics   \n",
       "2     Female  celltypist  sc_transcriptomics   \n",
       "3     Female  celltypist  sc_transcriptomics   \n",
       "4     Female  celltypist  sc_transcriptomics   \n",
       "...      ...         ...                 ...   \n",
       "8015    Male        popv  sc_transcriptomics   \n",
       "8016    Male        popv  sc_transcriptomics   \n",
       "8017    Male        popv  sc_transcriptomics   \n",
       "8018    Male        popv  sc_transcriptomics   \n",
       "8019    Male        popv  sc_transcriptomics   \n",
       "\n",
       "                                                cell_id  \\\n",
       "0            https://purl.org/ccf/ASCTB-TEMP_smc-plpp2-   \n",
       "1            https://purl.org/ccf/ASCTB-TEMP_smc-plpp2-   \n",
       "2     https://purl.org/ccf/ASCTB-TEMP_cycling-plasma...   \n",
       "3     https://purl.org/ccf/ASCTB-TEMP_cycling-plasma...   \n",
       "4     https://purl.org/ccf/ASCTB-TEMP_mesoderm-1-hand1-   \n",
       "...                                                 ...   \n",
       "8015          http://purl.obolibrary.org/obo/CL_0000625   \n",
       "8016          http://purl.obolibrary.org/obo/CL_0000576   \n",
       "8017          http://purl.obolibrary.org/obo/CL_0000235   \n",
       "8018          http://purl.obolibrary.org/obo/CL_0000066   \n",
       "8019          http://purl.obolibrary.org/obo/CL_0000814   \n",
       "\n",
       "                           cell_label  cell_count  cell_percentage  \n",
       "0                        SMC (PLPP2+)      92.848         0.114140  \n",
       "1                        SMC (PLPP2+)      92.848         0.114140  \n",
       "2                 Cycling plasma cell      63.448         0.077998  \n",
       "3                 Cycling plasma cell      63.448         0.077998  \n",
       "4                 Mesoderm 1 (HAND1+)      57.400         0.070563  \n",
       "...                               ...         ...              ...  \n",
       "8015  CD8-positive, alpha-beta T cell      52.962         0.018737  \n",
       "8016                         monocyte      52.052         0.018415  \n",
       "8017                       macrophage      34.762         0.012298  \n",
       "8018                  epithelial cell      11.830         0.004185  \n",
       "8019                 mature NK T cell      10.192         0.003606  \n",
       "\n",
       "[8020 rows x 10 columns]"
      ]
     },
     "execution_count": 12,
     "metadata": {},
     "output_type": "execute_result"
    }
   ],
   "source": [
    "as_data = requests.get(\n",
    "    'https://grlc.io/api-git/hubmapconsortium/ccf-grlc/subdir/hra-pop/cell_types_in_anatomical_structurescts_per_as', headers={\n",
    "      'Accept': 'text/csv'\n",
    "    }).text\n",
    "\n",
    "# Read the CSV data\n",
    "df_as_data_grlc = pd.read_csv(io.StringIO(as_data))\n",
    "\n",
    "# Display the DataFrame\n",
    "df_as_data_grlc"
   ]
  },
  {
   "cell_type": "code",
   "execution_count": 13,
   "metadata": {},
   "outputs": [
    {
     "name": "stdout",
     "output_type": "stream",
     "text": [
      "Number of unique AS IDs in HRApop v0.11.1 on grlc: 28\n"
     ]
    }
   ],
   "source": [
    "# unique AS\n",
    "print(f'Number of unique AS IDs in HRApop {hra_pop_version} on grlc: {len(df_as_data_grlc['as_label'].unique())}')"
   ]
  },
  {
   "cell_type": "code",
   "execution_count": 14,
   "metadata": {},
   "outputs": [
    {
     "data": {
      "application/vnd.microsoft.datawrangler.viewer.v0+json": {
       "columns": [
        {
         "name": "index",
         "rawType": "int64",
         "type": "integer"
        },
        {
         "name": "organ",
         "rawType": "object",
         "type": "string"
        },
        {
         "name": "as_label",
         "rawType": "object",
         "type": "unknown"
        },
        {
         "name": "cell_label",
         "rawType": "object",
         "type": "string"
        },
        {
         "name": "cell_id",
         "rawType": "object",
         "type": "string"
        },
        {
         "name": "mean_cell_count",
         "rawType": "float64",
         "type": "float"
        },
        {
         "name": "cell_count",
         "rawType": "int64",
         "type": "integer"
        }
       ],
       "conversionMethod": "pd.DataFrame",
       "ref": "5f8ed367-ac1a-4244-a772-057cfded8fbf",
       "rows": [
        [
         "0",
         "VHFHeart",
         "Posteromedial head of posterior papillary muscle of left ventricle",
         "Adip1",
         "http://purl.obolibrary.org/obo/CL_0000136",
         "33.0",
         "792"
        ],
        [
         "1",
         "VHFHeart",
         "Posteromedial head of posterior papillary muscle of left ventricle",
         "Adip2",
         "http://purl.obolibrary.org/obo/CL_0000136",
         "20.5",
         "246"
        ],
        [
         "2",
         "VHFHeart",
         "Posteromedial head of posterior papillary muscle of left ventricle",
         "Adipocyte",
         "http://purl.obolibrary.org/obo/CL_0000136",
         "20.166666666666664",
         "726"
        ],
        [
         "3",
         "VHFHeart",
         "Posteromedial head of posterior papillary muscle of left ventricle",
         "Arterial Endothelial",
         "http://purl.obolibrary.org/obo/CL_1000413",
         "84.33333333333333",
         "3036"
        ],
        [
         "4",
         "VHFHeart",
         "Posteromedial head of posterior papillary muscle of left ventricle",
         "Atrial Cardiomyocyte",
         "http://purl.obolibrary.org/obo/CL_0002129",
         "4.0",
         "72"
        ],
        [
         "5",
         "VHFHeart",
         "Posteromedial head of posterior papillary muscle of left ventricle",
         "B",
         "http://purl.obolibrary.org/obo/CL_0000236",
         "21.3",
         "1278"
        ],
        [
         "6",
         "VHFHeart",
         "Posteromedial head of posterior papillary muscle of left ventricle",
         "B_plasma",
         "http://purl.obolibrary.org/obo/CL_0000786",
         "5.0",
         "120"
        ],
        [
         "7",
         "VHFHeart",
         "Posteromedial head of posterior papillary muscle of left ventricle",
         "CD14+Mo",
         "http://purl.obolibrary.org/obo/CL_0002057",
         "169.25",
         "4062"
        ],
        [
         "8",
         "VHFHeart",
         "Posteromedial head of posterior papillary muscle of left ventricle",
         "CD16+Mo",
         "http://purl.obolibrary.org/obo/CL_0002396",
         "58.83333333333333",
         "2118"
        ],
        [
         "9",
         "VHFHeart",
         "Posteromedial head of posterior papillary muscle of left ventricle",
         "CD4+T_Tfh",
         "http://purl.obolibrary.org/obo/CL_0000492",
         "5.0",
         "60"
        ],
        [
         "10",
         "VHFHeart",
         "Posteromedial head of posterior papillary muscle of left ventricle",
         "CD4+T_Th1",
         "http://purl.obolibrary.org/obo/CL_0000545",
         "6.0",
         "72"
        ],
        [
         "11",
         "VHFHeart",
         "Posteromedial head of posterior papillary muscle of left ventricle",
         "CD4+T_Th17",
         "http://purl.obolibrary.org/obo/CL_0000899",
         "1.0",
         "12"
        ],
        [
         "12",
         "VHFHeart",
         "Posteromedial head of posterior papillary muscle of left ventricle",
         "CD4+T_Th2",
         "http://purl.obolibrary.org/obo/CL_0000546",
         "2.0",
         "36"
        ],
        [
         "13",
         "VHFHeart",
         "Posteromedial head of posterior papillary muscle of left ventricle",
         "CD4+T_act",
         "http://purl.obolibrary.org/obo/CL_0001043",
         "14.8",
         "444"
        ],
        [
         "14",
         "VHFHeart",
         "Posteromedial head of posterior papillary muscle of left ventricle",
         "CD4+T_naive",
         "http://purl.obolibrary.org/obo/CL_0000895",
         "34.0",
         "1020"
        ],
        [
         "15",
         "VHFHeart",
         "Posteromedial head of posterior papillary muscle of left ventricle",
         "CD4+T_reg",
         "http://purl.obolibrary.org/obo/CL_0000792",
         "1.3333333333333333",
         "24"
        ],
        [
         "16",
         "VHFHeart",
         "Posteromedial head of posterior papillary muscle of left ventricle",
         "CD8+T_cytox",
         "http://purl.obolibrary.org/obo/CL_0000794",
         "3.25",
         "78"
        ],
        [
         "17",
         "VHFHeart",
         "Posteromedial head of posterior papillary muscle of left ventricle",
         "CD8+T_em",
         "http://purl.obolibrary.org/obo/CL_0000913",
         "4.8",
         "144"
        ],
        [
         "18",
         "VHFHeart",
         "Posteromedial head of posterior papillary muscle of left ventricle",
         "CD8+T_te",
         "http://purl.obolibrary.org/obo/CL_0001050",
         "13.0",
         "234"
        ],
        [
         "19",
         "VHFHeart",
         "Posteromedial head of posterior papillary muscle of left ventricle",
         "CD8+T_trans",
         "http://purl.obolibrary.org/obo/CL_0000625",
         "8.0",
         "288"
        ],
        [
         "20",
         "VHFHeart",
         "Posteromedial head of posterior papillary muscle of left ventricle",
         "Capillary Endothelial",
         "http://purl.obolibrary.org/obo/CL_0002144",
         "1359.1666666666665",
         "48930"
        ],
        [
         "21",
         "VHFHeart",
         "Posteromedial head of posterior papillary muscle of left ventricle",
         "DC",
         "http://purl.obolibrary.org/obo/CL_0000451",
         "15.2",
         "456"
        ],
        [
         "22",
         "VHFHeart",
         "Posteromedial head of posterior papillary muscle of left ventricle",
         "EC1_cap",
         "http://purl.obolibrary.org/obo/CL_0002144",
         "219.33333333333331",
         "3948"
        ],
        [
         "23",
         "VHFHeart",
         "Posteromedial head of posterior papillary muscle of left ventricle",
         "EC2_cap",
         "http://purl.obolibrary.org/obo/CL_0002144",
         "335.0",
         "2010"
        ],
        [
         "24",
         "VHFHeart",
         "Posteromedial head of posterior papillary muscle of left ventricle",
         "EC3_cap",
         "http://purl.obolibrary.org/obo/CL_0002144",
         "2328.5",
         "27942"
        ],
        [
         "25",
         "VHFHeart",
         "Posteromedial head of posterior papillary muscle of left ventricle",
         "EC4_immune",
         "http://purl.obolibrary.org/obo/CL_0000115",
         "139.66666666666666",
         "5028"
        ],
        [
         "26",
         "VHFHeart",
         "Posteromedial head of posterior papillary muscle of left ventricle",
         "EC5_art",
         "http://purl.obolibrary.org/obo/CL_1000413",
         "322.16666666666663",
         "11598"
        ],
        [
         "27",
         "VHFHeart",
         "Posteromedial head of posterior papillary muscle of left ventricle",
         "EC6_ven",
         "http://purl.obolibrary.org/obo/CL_0002543",
         "82.83333333333333",
         "2982"
        ],
        [
         "28",
         "VHFHeart",
         "Posteromedial head of posterior papillary muscle of left ventricle",
         "EC7_endocardial",
         "http://purl.obolibrary.org/obo/CL_0002350",
         "11.4",
         "342"
        ],
        [
         "29",
         "VHFHeart",
         "Posteromedial head of posterior papillary muscle of left ventricle",
         "EC8_ln",
         "http://purl.obolibrary.org/obo/CL_0002138",
         "10.2",
         "306"
        ],
        [
         "30",
         "VHFHeart",
         "Posteromedial head of posterior papillary muscle of left ventricle",
         "Endocardial",
         "http://purl.obolibrary.org/obo/CL_0002350",
         "10.6",
         "318"
        ],
        [
         "31",
         "VHFHeart",
         "Posteromedial head of posterior papillary muscle of left ventricle",
         "Endothelial",
         "http://purl.obolibrary.org/obo/CL_0000115",
         "1.5",
         "18"
        ],
        [
         "32",
         "VHFHeart",
         "Posteromedial head of posterior papillary muscle of left ventricle",
         "FB1",
         "http://purl.obolibrary.org/obo/CL_0000057",
         "1244.3333333333333",
         "22398"
        ],
        [
         "33",
         "VHFHeart",
         "Posteromedial head of posterior papillary muscle of left ventricle",
         "FB3",
         "http://purl.obolibrary.org/obo/CL_0000057",
         "1273.0",
         "7638"
        ],
        [
         "34",
         "VHFHeart",
         "Posteromedial head of posterior papillary muscle of left ventricle",
         "FB4_activated",
         "http://purl.obolibrary.org/obo/CL_0000057",
         "452.0",
         "2712"
        ],
        [
         "35",
         "VHFHeart",
         "Posteromedial head of posterior papillary muscle of left ventricle",
         "FB5",
         "http://purl.obolibrary.org/obo/CL_0000057",
         "566.0",
         "3396"
        ],
        [
         "36",
         "VHFHeart",
         "Posteromedial head of posterior papillary muscle of left ventricle",
         "Fibroblast",
         "http://purl.obolibrary.org/obo/CL_0000057",
         "999.3333333333331",
         "35976"
        ],
        [
         "37",
         "VHFHeart",
         "Posteromedial head of posterior papillary muscle of left ventricle",
         "ILC",
         "http://purl.obolibrary.org/obo/CL_0001065",
         "2.5",
         "60"
        ],
        [
         "38",
         "VHFHeart",
         "Posteromedial head of posterior papillary muscle of left ventricle",
         "LYVE1+IGF1+MP",
         "http://purl.obolibrary.org/obo/CL_0000235",
         "125.0",
         "2250"
        ],
        [
         "39",
         "VHFHeart",
         "Posteromedial head of posterior papillary muscle of left ventricle",
         "LYVE1+MP_cycling",
         "http://purl.obolibrary.org/obo/CL_0000235",
         "103.0",
         "618"
        ],
        [
         "40",
         "VHFHeart",
         "Posteromedial head of posterior papillary muscle of left ventricle",
         "LYVE1+TIMD4+MP",
         "http://purl.obolibrary.org/obo/CL_0000235",
         "400.5",
         "4806"
        ],
        [
         "41",
         "VHFHeart",
         "Posteromedial head of posterior papillary muscle of left ventricle",
         "Lymphatic Endothelial",
         "http://purl.obolibrary.org/obo/CL_0002138",
         "9.4",
         "282"
        ],
        [
         "42",
         "VHFHeart",
         "Posteromedial head of posterior papillary muscle of left ventricle",
         "MAIT-like",
         "http://purl.obolibrary.org/obo/CL_0000791",
         "13.333333333333332",
         "240"
        ],
        [
         "43",
         "VHFHeart",
         "Posteromedial head of posterior papillary muscle of left ventricle",
         "Macrophage",
         "http://purl.obolibrary.org/obo/CL_0000235",
         "126.16666666666666",
         "4542"
        ],
        [
         "44",
         "VHFHeart",
         "Posteromedial head of posterior papillary muscle of left ventricle",
         "Mast",
         "http://purl.obolibrary.org/obo/CL_0000097",
         "32.0",
         "2304"
        ],
        [
         "45",
         "VHFHeart",
         "Posteromedial head of posterior papillary muscle of left ventricle",
         "Mesothelial",
         "http://purl.obolibrary.org/obo/CL_0000077",
         "12.0",
         "144"
        ],
        [
         "46",
         "VHFHeart",
         "Posteromedial head of posterior papillary muscle of left ventricle",
         "Monocyte/cDC",
         "http://purl.obolibrary.org/obo/CL_0011031",
         "282.66666666666663",
         "10176"
        ],
        [
         "47",
         "VHFHeart",
         "Posteromedial head of posterior papillary muscle of left ventricle",
         "NC1_glial",
         "http://purl.obolibrary.org/obo/CL_0010020",
         "67.25",
         "1614"
        ],
        [
         "48",
         "VHFHeart",
         "Posteromedial head of posterior papillary muscle of left ventricle",
         "NC2_glial_NGF+",
         "http://purl.obolibrary.org/obo/CL_0010020",
         "25.0",
         "300"
        ],
        [
         "49",
         "VHFHeart",
         "Posteromedial head of posterior papillary muscle of left ventricle",
         "NK",
         "http://purl.obolibrary.org/obo/CL_0000623",
         "165.8",
         "4974"
        ]
       ],
       "shape": {
        "columns": 6,
        "rows": 6694
       }
      },
      "text/html": [
       "<div>\n",
       "<style scoped>\n",
       "    .dataframe tbody tr th:only-of-type {\n",
       "        vertical-align: middle;\n",
       "    }\n",
       "\n",
       "    .dataframe tbody tr th {\n",
       "        vertical-align: top;\n",
       "    }\n",
       "\n",
       "    .dataframe thead th {\n",
       "        text-align: right;\n",
       "    }\n",
       "</style>\n",
       "<table border=\"1\" class=\"dataframe\">\n",
       "  <thead>\n",
       "    <tr style=\"text-align: right;\">\n",
       "      <th></th>\n",
       "      <th>organ</th>\n",
       "      <th>as_label</th>\n",
       "      <th>cell_label</th>\n",
       "      <th>cell_id</th>\n",
       "      <th>mean_cell_count</th>\n",
       "      <th>cell_count</th>\n",
       "    </tr>\n",
       "  </thead>\n",
       "  <tbody>\n",
       "    <tr>\n",
       "      <th>0</th>\n",
       "      <td>VHFHeart</td>\n",
       "      <td>Posteromedial head of posterior papillary musc...</td>\n",
       "      <td>Adip1</td>\n",
       "      <td>http://purl.obolibrary.org/obo/CL_0000136</td>\n",
       "      <td>33.000000</td>\n",
       "      <td>792</td>\n",
       "    </tr>\n",
       "    <tr>\n",
       "      <th>1</th>\n",
       "      <td>VHFHeart</td>\n",
       "      <td>Posteromedial head of posterior papillary musc...</td>\n",
       "      <td>Adip2</td>\n",
       "      <td>http://purl.obolibrary.org/obo/CL_0000136</td>\n",
       "      <td>20.500000</td>\n",
       "      <td>246</td>\n",
       "    </tr>\n",
       "    <tr>\n",
       "      <th>2</th>\n",
       "      <td>VHFHeart</td>\n",
       "      <td>Posteromedial head of posterior papillary musc...</td>\n",
       "      <td>Adipocyte</td>\n",
       "      <td>http://purl.obolibrary.org/obo/CL_0000136</td>\n",
       "      <td>20.166667</td>\n",
       "      <td>726</td>\n",
       "    </tr>\n",
       "    <tr>\n",
       "      <th>3</th>\n",
       "      <td>VHFHeart</td>\n",
       "      <td>Posteromedial head of posterior papillary musc...</td>\n",
       "      <td>Arterial Endothelial</td>\n",
       "      <td>http://purl.obolibrary.org/obo/CL_1000413</td>\n",
       "      <td>84.333333</td>\n",
       "      <td>3036</td>\n",
       "    </tr>\n",
       "    <tr>\n",
       "      <th>4</th>\n",
       "      <td>VHFHeart</td>\n",
       "      <td>Posteromedial head of posterior papillary musc...</td>\n",
       "      <td>Atrial Cardiomyocyte</td>\n",
       "      <td>http://purl.obolibrary.org/obo/CL_0002129</td>\n",
       "      <td>4.000000</td>\n",
       "      <td>72</td>\n",
       "    </tr>\n",
       "    <tr>\n",
       "      <th>...</th>\n",
       "      <td>...</td>\n",
       "      <td>...</td>\n",
       "      <td>...</td>\n",
       "      <td>...</td>\n",
       "      <td>...</td>\n",
       "      <td>...</td>\n",
       "    </tr>\n",
       "    <tr>\n",
       "      <th>6689</th>\n",
       "      <td>VHMUrinaryBladder</td>\n",
       "      <td>trigone of urinary bladder</td>\n",
       "      <td>myofibroblast cell</td>\n",
       "      <td>http://purl.obolibrary.org/obo/CL_0000186</td>\n",
       "      <td>338.000000</td>\n",
       "      <td>1014</td>\n",
       "    </tr>\n",
       "    <tr>\n",
       "      <th>6690</th>\n",
       "      <td>VHMUrinaryBladder</td>\n",
       "      <td>trigone of urinary bladder</td>\n",
       "      <td>pericyte</td>\n",
       "      <td>http://purl.obolibrary.org/obo/CL_0000669</td>\n",
       "      <td>199.500000</td>\n",
       "      <td>798</td>\n",
       "    </tr>\n",
       "    <tr>\n",
       "      <th>6691</th>\n",
       "      <td>VHMUrinaryBladder</td>\n",
       "      <td>trigone of urinary bladder</td>\n",
       "      <td>plasma cell</td>\n",
       "      <td>http://purl.obolibrary.org/obo/CL_0000786</td>\n",
       "      <td>1.333333</td>\n",
       "      <td>4</td>\n",
       "    </tr>\n",
       "    <tr>\n",
       "      <th>6692</th>\n",
       "      <td>VHMUrinaryBladder</td>\n",
       "      <td>trigone of urinary bladder</td>\n",
       "      <td>smooth muscle cell</td>\n",
       "      <td>http://purl.obolibrary.org/obo/CL_0000192</td>\n",
       "      <td>11714.750000</td>\n",
       "      <td>46859</td>\n",
       "    </tr>\n",
       "    <tr>\n",
       "      <th>6693</th>\n",
       "      <td>VHMUrinaryBladder</td>\n",
       "      <td>trigone of urinary bladder</td>\n",
       "      <td>vein endothelial cell</td>\n",
       "      <td>http://purl.obolibrary.org/obo/CL_0002543</td>\n",
       "      <td>342.250000</td>\n",
       "      <td>1369</td>\n",
       "    </tr>\n",
       "  </tbody>\n",
       "</table>\n",
       "<p>6694 rows × 6 columns</p>\n",
       "</div>"
      ],
      "text/plain": [
       "                  organ                                           as_label  \\\n",
       "0              VHFHeart  Posteromedial head of posterior papillary musc...   \n",
       "1              VHFHeart  Posteromedial head of posterior papillary musc...   \n",
       "2              VHFHeart  Posteromedial head of posterior papillary musc...   \n",
       "3              VHFHeart  Posteromedial head of posterior papillary musc...   \n",
       "4              VHFHeart  Posteromedial head of posterior papillary musc...   \n",
       "...                 ...                                                ...   \n",
       "6689  VHMUrinaryBladder                         trigone of urinary bladder   \n",
       "6690  VHMUrinaryBladder                         trigone of urinary bladder   \n",
       "6691  VHMUrinaryBladder                         trigone of urinary bladder   \n",
       "6692  VHMUrinaryBladder                         trigone of urinary bladder   \n",
       "6693  VHMUrinaryBladder                         trigone of urinary bladder   \n",
       "\n",
       "                 cell_label                                    cell_id  \\\n",
       "0                     Adip1  http://purl.obolibrary.org/obo/CL_0000136   \n",
       "1                     Adip2  http://purl.obolibrary.org/obo/CL_0000136   \n",
       "2                 Adipocyte  http://purl.obolibrary.org/obo/CL_0000136   \n",
       "3      Arterial Endothelial  http://purl.obolibrary.org/obo/CL_1000413   \n",
       "4      Atrial Cardiomyocyte  http://purl.obolibrary.org/obo/CL_0002129   \n",
       "...                     ...                                        ...   \n",
       "6689     myofibroblast cell  http://purl.obolibrary.org/obo/CL_0000186   \n",
       "6690               pericyte  http://purl.obolibrary.org/obo/CL_0000669   \n",
       "6691            plasma cell  http://purl.obolibrary.org/obo/CL_0000786   \n",
       "6692     smooth muscle cell  http://purl.obolibrary.org/obo/CL_0000192   \n",
       "6693  vein endothelial cell  http://purl.obolibrary.org/obo/CL_0002543   \n",
       "\n",
       "      mean_cell_count  cell_count  \n",
       "0           33.000000         792  \n",
       "1           20.500000         246  \n",
       "2           20.166667         726  \n",
       "3           84.333333        3036  \n",
       "4            4.000000          72  \n",
       "...               ...         ...  \n",
       "6689       338.000000        1014  \n",
       "6690       199.500000         798  \n",
       "6691         1.333333           4  \n",
       "6692     11714.750000       46859  \n",
       "6693       342.250000        1369  \n",
       "\n",
       "[6694 rows x 6 columns]"
      ]
     },
     "execution_count": 14,
     "metadata": {},
     "output_type": "execute_result"
    }
   ],
   "source": [
    "# load Table S3\n",
    "table_s3 = requests.get(\n",
    "    'https://raw.githubusercontent.com/x-atlas-consortia/hra-pop/refs/heads/main/output-data/v0.11.1/reports/atlas/table-s3.csv').text\n",
    "\n",
    "# Read the CSV data\n",
    "df_as_data_reports = pd.read_csv(io.StringIO(table_s3))\n",
    "\n",
    "# Display the DataFrame\n",
    "df_as_data_reports"
   ]
  },
  {
   "cell_type": "code",
   "execution_count": 15,
   "metadata": {},
   "outputs": [
    {
     "name": "stdout",
     "output_type": "stream",
     "text": [
      "Number of unique AS IDs in HRApop v0.11.1 in reports: 58\n"
     ]
    }
   ],
   "source": [
    "print(\n",
    "    f'Number of unique AS IDs in HRApop {hra_pop_version} in reports: {len(df_as_data_reports['as_label'].unique())}')"
   ]
  }
 ],
 "metadata": {
  "kernelspec": {
   "display_name": ".venv",
   "language": "python",
   "name": "python3"
  },
  "language_info": {
   "codemirror_mode": {
    "name": "ipython",
    "version": 3
   },
   "file_extension": ".py",
   "mimetype": "text/x-python",
   "name": "python",
   "nbconvert_exporter": "python",
   "pygments_lexer": "ipython3",
   "version": "3.12.4"
  }
 },
 "nbformat": 4,
 "nbformat_minor": 2
}
