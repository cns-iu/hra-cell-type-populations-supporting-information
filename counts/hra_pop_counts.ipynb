{
 "cells": [
  {
   "cell_type": "markdown",
   "metadata": {},
   "source": [
    "# A notebook to compile counts for the HRApop paper"
   ]
  },
  {
   "cell_type": "markdown",
   "metadata": {},
   "source": [
    "# Import libraries"
   ]
  },
  {
   "cell_type": "code",
   "execution_count": 12,
   "metadata": {},
   "outputs": [],
   "source": [
    "import pandas as pd\n",
    "import numpy as np"
   ]
  },
  {
   "cell_type": "markdown",
   "metadata": {},
   "source": [
    "# Set global variables"
   ]
  },
  {
   "cell_type": "code",
   "execution_count": 13,
   "metadata": {},
   "outputs": [],
   "source": [
    "hra_pop_version = \"v0.11.1\""
   ]
  },
  {
   "cell_type": "markdown",
   "metadata": {},
   "source": [
    "# Load data"
   ]
  },
  {
   "cell_type": "code",
   "execution_count": 14,
   "metadata": {},
   "outputs": [
    {
     "name": "stderr",
     "output_type": "stream",
     "text": [
      "C:\\Users\\abueckle\\AppData\\Local\\Temp\\1\\ipykernel_15592\\2960438112.py:1: DtypeWarning: Columns (1,3) have mixed types. Specify dtype option on import or set low_memory=False.\n",
      "  sankey = pd.read_csv(f\"../../hra-pop/output-data/{hra_pop_version}/reports/universe-ad-hoc/sankey.csv\")\n"
     ]
    },
    {
     "data": {
      "text/html": [
       "<div>\n",
       "<style scoped>\n",
       "    .dataframe tbody tr th:only-of-type {\n",
       "        vertical-align: middle;\n",
       "    }\n",
       "\n",
       "    .dataframe tbody tr th {\n",
       "        vertical-align: top;\n",
       "    }\n",
       "\n",
       "    .dataframe thead th {\n",
       "        text-align: right;\n",
       "    }\n",
       "</style>\n",
       "<table border=\"1\" class=\"dataframe\">\n",
       "  <thead>\n",
       "    <tr style=\"text-align: right;\">\n",
       "      <th></th>\n",
       "      <th>portal</th>\n",
       "      <th>study_paper</th>\n",
       "      <th>doi</th>\n",
       "      <th>lead_author</th>\n",
       "      <th>is_azimuth_reference</th>\n",
       "      <th>donor_id</th>\n",
       "      <th>donor_sex</th>\n",
       "      <th>donor_age</th>\n",
       "      <th>donor_development_stage</th>\n",
       "      <th>donor_race</th>\n",
       "      <th>...</th>\n",
       "      <th>unique_dataset_id</th>\n",
       "      <th>link_to_h5ad_file</th>\n",
       "      <th>sc_transcriptomics_or_sc_proteomics</th>\n",
       "      <th>cell_type_annotation_tool</th>\n",
       "      <th>omap_id</th>\n",
       "      <th>number_of_cells_total</th>\n",
       "      <th>number_of_unique_cell_types</th>\n",
       "      <th>hubmap_dataset_publication_status</th>\n",
       "      <th>is_rui_registered</th>\n",
       "      <th>is_atlas_dataset</th>\n",
       "    </tr>\n",
       "  </thead>\n",
       "  <tbody>\n",
       "    <tr>\n",
       "      <th>0</th>\n",
       "      <td>KPMP</td>\n",
       "      <td>NaN</td>\n",
       "      <td>http://dx.doi.org/10.1681/ASN.2016091027</td>\n",
       "      <td>NaN</td>\n",
       "      <td>NaN</td>\n",
       "      <td>Donor1</td>\n",
       "      <td>Male</td>\n",
       "      <td>NaN</td>\n",
       "      <td>NaN</td>\n",
       "      <td>NaN</td>\n",
       "      <td>...</td>\n",
       "      <td>http://dx.doi.org/10.1681/ASN.2016091027#Donor...</td>\n",
       "      <td>http://dx.doi.org/10.1681/ASN.2016091027</td>\n",
       "      <td>NaN</td>\n",
       "      <td>NaN</td>\n",
       "      <td>NaN</td>\n",
       "      <td>NaN</td>\n",
       "      <td>NaN</td>\n",
       "      <td>NaN</td>\n",
       "      <td>True</td>\n",
       "      <td>False</td>\n",
       "    </tr>\n",
       "    <tr>\n",
       "      <th>1</th>\n",
       "      <td>KPMP</td>\n",
       "      <td>NaN</td>\n",
       "      <td>http://dx.doi.org/10.1681/ASN.2016091027</td>\n",
       "      <td>NaN</td>\n",
       "      <td>NaN</td>\n",
       "      <td>Donor2</td>\n",
       "      <td>Male</td>\n",
       "      <td>NaN</td>\n",
       "      <td>NaN</td>\n",
       "      <td>NaN</td>\n",
       "      <td>...</td>\n",
       "      <td>http://dx.doi.org/10.1681/ASN.2016091027#Donor...</td>\n",
       "      <td>http://dx.doi.org/10.1681/ASN.2016091027</td>\n",
       "      <td>NaN</td>\n",
       "      <td>NaN</td>\n",
       "      <td>NaN</td>\n",
       "      <td>NaN</td>\n",
       "      <td>NaN</td>\n",
       "      <td>NaN</td>\n",
       "      <td>True</td>\n",
       "      <td>False</td>\n",
       "    </tr>\n",
       "    <tr>\n",
       "      <th>2</th>\n",
       "      <td>KPMP</td>\n",
       "      <td>NaN</td>\n",
       "      <td>http://dx.doi.org/10.1681/ASN.2016091027</td>\n",
       "      <td>NaN</td>\n",
       "      <td>NaN</td>\n",
       "      <td>Donor3</td>\n",
       "      <td>Male</td>\n",
       "      <td>NaN</td>\n",
       "      <td>NaN</td>\n",
       "      <td>NaN</td>\n",
       "      <td>...</td>\n",
       "      <td>http://dx.doi.org/10.1681/ASN.2016091027#Donor...</td>\n",
       "      <td>http://dx.doi.org/10.1016/j.trsl.2017.07.006</td>\n",
       "      <td>NaN</td>\n",
       "      <td>NaN</td>\n",
       "      <td>NaN</td>\n",
       "      <td>NaN</td>\n",
       "      <td>NaN</td>\n",
       "      <td>NaN</td>\n",
       "      <td>True</td>\n",
       "      <td>False</td>\n",
       "    </tr>\n",
       "    <tr>\n",
       "      <th>3</th>\n",
       "      <td>HRA</td>\n",
       "      <td>NaN</td>\n",
       "      <td>NaN</td>\n",
       "      <td>NaN</td>\n",
       "      <td>NaN</td>\n",
       "      <td>Donor1</td>\n",
       "      <td>Female</td>\n",
       "      <td>38.0</td>\n",
       "      <td>NaN</td>\n",
       "      <td>NaN</td>\n",
       "      <td>...</td>\n",
       "      <td>http://purl.org/ccf/1.5/omap-1#Donor1_TissueBl...</td>\n",
       "      <td>https://hubmapconsortium.github.io/ccf-release...</td>\n",
       "      <td>NaN</td>\n",
       "      <td>NaN</td>\n",
       "      <td>NaN</td>\n",
       "      <td>NaN</td>\n",
       "      <td>NaN</td>\n",
       "      <td>NaN</td>\n",
       "      <td>True</td>\n",
       "      <td>False</td>\n",
       "    </tr>\n",
       "    <tr>\n",
       "      <th>4</th>\n",
       "      <td>HIRN, ESPACE</td>\n",
       "      <td>NaN</td>\n",
       "      <td>https://doi.org/10.5281/zenodo.7742474</td>\n",
       "      <td>NaN</td>\n",
       "      <td>NaN</td>\n",
       "      <td>Donor1</td>\n",
       "      <td>Male</td>\n",
       "      <td>NaN</td>\n",
       "      <td>NaN</td>\n",
       "      <td>NaN</td>\n",
       "      <td>...</td>\n",
       "      <td>http://purl.org/ccf/1.5/omap-6#Donor1_TissueBl...</td>\n",
       "      <td>https://zenodo.org/record/7742474</td>\n",
       "      <td>NaN</td>\n",
       "      <td>NaN</td>\n",
       "      <td>NaN</td>\n",
       "      <td>NaN</td>\n",
       "      <td>NaN</td>\n",
       "      <td>NaN</td>\n",
       "      <td>True</td>\n",
       "      <td>False</td>\n",
       "    </tr>\n",
       "  </tbody>\n",
       "</table>\n",
       "<p>5 rows × 32 columns</p>\n",
       "</div>"
      ],
      "text/plain": [
       "         portal study_paper                                       doi  \\\n",
       "0          KPMP         NaN  http://dx.doi.org/10.1681/ASN.2016091027   \n",
       "1          KPMP         NaN  http://dx.doi.org/10.1681/ASN.2016091027   \n",
       "2          KPMP         NaN  http://dx.doi.org/10.1681/ASN.2016091027   \n",
       "3           HRA         NaN                                       NaN   \n",
       "4  HIRN, ESPACE         NaN    https://doi.org/10.5281/zenodo.7742474   \n",
       "\n",
       "  lead_author  is_azimuth_reference donor_id donor_sex  donor_age  \\\n",
       "0         NaN                   NaN   Donor1      Male        NaN   \n",
       "1         NaN                   NaN   Donor2      Male        NaN   \n",
       "2         NaN                   NaN   Donor3      Male        NaN   \n",
       "3         NaN                   NaN   Donor1    Female       38.0   \n",
       "4         NaN                   NaN   Donor1      Male        NaN   \n",
       "\n",
       "   donor_development_stage donor_race  ...  \\\n",
       "0                      NaN        NaN  ...   \n",
       "1                      NaN        NaN  ...   \n",
       "2                      NaN        NaN  ...   \n",
       "3                      NaN        NaN  ...   \n",
       "4                      NaN        NaN  ...   \n",
       "\n",
       "                                   unique_dataset_id  \\\n",
       "0  http://dx.doi.org/10.1681/ASN.2016091027#Donor...   \n",
       "1  http://dx.doi.org/10.1681/ASN.2016091027#Donor...   \n",
       "2  http://dx.doi.org/10.1681/ASN.2016091027#Donor...   \n",
       "3  http://purl.org/ccf/1.5/omap-1#Donor1_TissueBl...   \n",
       "4  http://purl.org/ccf/1.5/omap-6#Donor1_TissueBl...   \n",
       "\n",
       "                                   link_to_h5ad_file  \\\n",
       "0           http://dx.doi.org/10.1681/ASN.2016091027   \n",
       "1           http://dx.doi.org/10.1681/ASN.2016091027   \n",
       "2       http://dx.doi.org/10.1016/j.trsl.2017.07.006   \n",
       "3  https://hubmapconsortium.github.io/ccf-release...   \n",
       "4                  https://zenodo.org/record/7742474   \n",
       "\n",
       "  sc_transcriptomics_or_sc_proteomics cell_type_annotation_tool  omap_id  \\\n",
       "0                                 NaN                       NaN      NaN   \n",
       "1                                 NaN                       NaN      NaN   \n",
       "2                                 NaN                       NaN      NaN   \n",
       "3                                 NaN                       NaN      NaN   \n",
       "4                                 NaN                       NaN      NaN   \n",
       "\n",
       "   number_of_cells_total  number_of_unique_cell_types  \\\n",
       "0                    NaN                          NaN   \n",
       "1                    NaN                          NaN   \n",
       "2                    NaN                          NaN   \n",
       "3                    NaN                          NaN   \n",
       "4                    NaN                          NaN   \n",
       "\n",
       "  hubmap_dataset_publication_status is_rui_registered is_atlas_dataset  \n",
       "0                               NaN              True            False  \n",
       "1                               NaN              True            False  \n",
       "2                               NaN              True            False  \n",
       "3                               NaN              True            False  \n",
       "4                               NaN              True            False  \n",
       "\n",
       "[5 rows x 32 columns]"
      ]
     },
     "execution_count": 14,
     "metadata": {},
     "output_type": "execute_result"
    }
   ],
   "source": [
    "sankey = pd.read_csv(f\"../../hra-pop/output-data/{hra_pop_version}/reports/universe-ad-hoc/sankey.csv\")\n",
    "\n",
    "# View first few rows\n",
    "sankey.head()"
   ]
  },
  {
   "cell_type": "markdown",
   "metadata": {},
   "source": [
    "# Pre-processing steps"
   ]
  },
  {
   "cell_type": "markdown",
   "metadata": {},
   "source": [
    "## Simplify rows with multiple annotations for getting accurate counts"
   ]
  },
  {
   "cell_type": "code",
   "execution_count": 15,
   "metadata": {},
   "outputs": [],
   "source": [
    "tool_replacement = \"sc_transcriptomics with Cell Summary\"\n",
    "\n",
    "sankey['cell_type_annotation_tool'] = sankey['cell_type_annotation_tool'].replace({\n",
    "    'azimuth': tool_replacement,\n",
    "    'celltypist': tool_replacement,\n",
    "    'popv': tool_replacement,\n",
    "    np.nan: \"No Cell Summary\"\n",
    "})"
   ]
  },
  {
   "cell_type": "markdown",
   "metadata": {},
   "source": [
    "## Manually fix missing cell type annotation values for SenNet atlas datasets"
   ]
  },
  {
   "cell_type": "markdown",
   "metadata": {},
   "source": [
    "See GitHub issue: https://github.com/x-atlas-consortia/hra-pop/issues/91"
   ]
  },
  {
   "cell_type": "code",
   "execution_count": 16,
   "metadata": {},
   "outputs": [],
   "source": [
    "# Define the indexing criteria\n",
    "criteria = (sankey['portal'] == \"SenNet\") & (\n",
    "    sankey['is_atlas_dataset'] == True)\n",
    "\n",
    "# Apply the change to the SenNet atlas datasets (2 as of HRApop v0.10.2)\n",
    "sankey.loc[criteria, 'cell_type_annotation_tool'] = tool_replacement\n",
    "\n",
    "sankey = sankey.drop_duplicates()"
   ]
  },
  {
   "cell_type": "markdown",
   "metadata": {},
   "source": [
    "# Get counts for HRApop paper"
   ]
  },
  {
   "cell_type": "markdown",
   "metadata": {},
   "source": [
    "The following sections provide counts of datasets and other metrics for HRApop v0.10.2."
   ]
  },
  {
   "cell_type": "markdown",
   "metadata": {},
   "source": [
    "## Report numbers for Highlights"
   ]
  },
  {
   "cell_type": "code",
   "execution_count": 17,
   "metadata": {},
   "outputs": [
    {
     "name": "stdout",
     "output_type": "stream",
     "text": [
      "Number of UNIVERSE datasets: 11698\n"
     ]
    }
   ],
   "source": [
    "# All datasets downloaded and retrieved from extraction sites\n",
    "all_datasets = sankey['unique_dataset_id'].unique()\n",
    "\n",
    "print(f\"Number of UNIVERSE datasets: {len(all_datasets)}\")"
   ]
  },
  {
   "cell_type": "code",
   "execution_count": 18,
   "metadata": {},
   "outputs": [
    {
     "name": "stdout",
     "output_type": "stream",
     "text": [
      "Number of sc-proteomics datasets: 107\n"
     ]
    }
   ],
   "source": [
    "# All sc-proteomics\n",
    "all_sc_proteomics = sankey[['dataset_id', 'cell_type_annotation_tool']\n",
    "                           ].loc[sankey['cell_type_annotation_tool'] == \"sc_proteomics\"].drop_duplicates()\n",
    "\n",
    "print(f\"Number of sc-proteomics datasets: {len(all_sc_proteomics)}\")"
   ]
  },
  {
   "cell_type": "code",
   "execution_count": 19,
   "metadata": {},
   "outputs": [
    {
     "name": "stdout",
     "output_type": "stream",
     "text": [
      "Number of sc-transcriptomics datasets with cell summary: 5587\n"
     ]
    }
   ],
   "source": [
    "# All datasets with cell summary\n",
    "sc_transcriptomics_with_cell_summary = sankey[['unique_dataset_id', 'cell_type_annotation_tool']].loc[\n",
    "    sankey['cell_type_annotation_tool'] == tool_replacement]['unique_dataset_id'].drop_duplicates()\n",
    "\n",
    "print(f\"Number of sc-transcriptomics datasets with cell summary: {len(sc_transcriptomics_with_cell_summary)}\")"
   ]
  },
  {
   "cell_type": "markdown",
   "metadata": {},
   "source": [
    "## Report numbers for Sankey/experimental data"
   ]
  },
  {
   "cell_type": "code",
   "execution_count": 20,
   "metadata": {},
   "outputs": [
    {
     "name": "stdout",
     "output_type": "stream",
     "text": [
      "Atlas datasets: 619\n",
      "\n",
      "Datasets with extraction site but without cell summary: 3680\n",
      "\n",
      "Datasets with cell summary but without extraction site: 5075\n",
      "\n",
      "Datasets with neither: 2324\n",
      "\n",
      "Non-atlas datasets total: 11079\n",
      "\n",
      "Cells in universe: 75662398.0\n",
      "\n"
     ]
    }
   ],
   "source": [
    "# atlas datasets\n",
    "atlas = sankey.loc[sankey['is_atlas_dataset'] == True]['unique_dataset_id'].unique()\n",
    "print(f\"Atlas datasets: {len(atlas)}\\n\")\n",
    "\n",
    "# datasets with extraction site but without cell summary\n",
    "no_cell_summary = sankey.loc[(sankey['is_rui_registered'] == True) & (\n",
    "    sankey['cell_type_annotation_tool'] == \"No Cell Summary\")]['unique_dataset_id'].unique()\n",
    "print(f\"Datasets with extraction site but without cell summary: {\n",
    "      len(no_cell_summary)}\\n\")\n",
    "\n",
    "# datasets with cell summary but without extraction site\n",
    "no_rui = sankey.loc[(sankey['is_rui_registered'] ==False) & (\n",
    "    sankey['cell_type_annotation_tool'] != \"No Cell Summary\")]\n",
    "print(f\"Datasets with cell summary but without extraction site: {\n",
    "      len(no_rui)}\\n\")\n",
    "\n",
    "# datasets with neither\n",
    "non_atlas_without_either = sankey.loc[(sankey['cell_type_annotation_tool'] == \"No Cell Summary\") & (sankey['is_rui_registered'] == False)]\n",
    "print(f\"Datasets with neither: {len(non_atlas_without_either)}\\n\")\n",
    "\n",
    "# non-atlas datasets total\n",
    "non_atlas_total = sankey.loc[(\n",
    "    sankey['is_atlas_dataset'] == False)]['unique_dataset_id'].unique()\n",
    "print(f\"Non-atlas datasets total: {len(non_atlas_total)}\\n\")\n",
    "\n",
    "# total number of cells across UNIVERSE\n",
    "cells_universe = sankey['number_of_cells_total'].sum()\n",
    "print(f'Cells in universe: {cells_universe}\\n')"
   ]
  },
  {
   "cell_type": "markdown",
   "metadata": {},
   "source": []
  },
  {
   "cell_type": "code",
   "execution_count": 22,
   "metadata": {},
   "outputs": [
    {
     "name": "stdout",
     "output_type": "stream",
     "text": [
      "Number of UNIVERSE datasets: 11698\n",
      "Number of sc-proteomics datasets: 107\n",
      "Number of sc-transcriptomics datasets with cell summary: 5587\n",
      "Datasets with extraction site but without cell summary: 3680\n",
      "Datasets with neither: 2324\n",
      "Number of portals: 16\n",
      "Number of organs: 27\n"
     ]
    }
   ],
   "source": [
    "\n",
    "# All datasets downloaded and retrieved from extraction sites\n",
    "print(f\"Number of UNIVERSE datasets: {len(all_datasets)}\")\n",
    "print(f\"Number of sc-proteomics datasets: {len(all_sc_proteomics)}\")\n",
    "print(f\"Number of sc-transcriptomics datasets with cell summary: {\n",
    "      len(sc_transcriptomics_with_cell_summary)}\")\n",
    "print(f\"Datasets with extraction site but without cell summary: {\n",
    "      len(no_cell_summary)}\")\n",
    "print(f\"Datasets with neither: {len(non_atlas_without_either)}\")\n",
    "\n",
    "\n",
    "# number of portals for sc-transcriptomics\n",
    "portals = sankey['portal'].unique()\n",
    "print(f\"Number of portals: {len(portals)}\")\n",
    "\n",
    "# number of organs for sc-transcriptomics\n",
    "organs = sankey['organ_name'].unique()\n",
    "print(f\"Number of organs: {len(organs)}\")"
   ]
  }
 ],
 "metadata": {
  "kernelspec": {
   "display_name": ".venv",
   "language": "python",
   "name": "python3"
  },
  "language_info": {
   "codemirror_mode": {
    "name": "ipython",
    "version": 3
   },
   "file_extension": ".py",
   "mimetype": "text/x-python",
   "name": "python",
   "nbconvert_exporter": "python",
   "pygments_lexer": "ipython3",
   "version": "3.12.4"
  }
 },
 "nbformat": 4,
 "nbformat_minor": 2
}
