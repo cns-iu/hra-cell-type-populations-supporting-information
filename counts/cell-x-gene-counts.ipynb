{
 "cells": [
  {
   "cell_type": "markdown",
   "id": "b3830dc7",
   "metadata": {},
   "source": [
    "## Code to query CxG (only works on Mac for now)"
   ]
  },
  {
   "cell_type": "markdown",
   "id": "5b109eb9",
   "metadata": {},
   "source": [
    "## Install and import libraries"
   ]
  },
  {
   "cell_type": "code",
   "execution_count": 3,
   "id": "cdea852f",
   "metadata": {},
   "outputs": [
    {
     "name": "stdout",
     "output_type": "stream",
     "text": [
      "Requirement already satisfied: cellxgene-census in /Users/abueckle/Documents/GitHub/hra-cell-type-populations-supporting-information/.venv/lib/python3.12/site-packages (1.17.0)\n",
      "Requirement already satisfied: tiledbsoma>=1.15.3 in /Users/abueckle/Documents/GitHub/hra-cell-type-populations-supporting-information/.venv/lib/python3.12/site-packages (from cellxgene-census) (1.17.0)\n",
      "Requirement already satisfied: anndata in /Users/abueckle/Documents/GitHub/hra-cell-type-populations-supporting-information/.venv/lib/python3.12/site-packages (from cellxgene-census) (0.11.4)\n",
      "Requirement already satisfied: numpy>=1.23 in /Users/abueckle/Documents/GitHub/hra-cell-type-populations-supporting-information/.venv/lib/python3.12/site-packages (from cellxgene-census) (2.2.4)\n",
      "Requirement already satisfied: requests in /Users/abueckle/Documents/GitHub/hra-cell-type-populations-supporting-information/.venv/lib/python3.12/site-packages (from cellxgene-census) (2.32.3)\n",
      "Requirement already satisfied: typing_extensions in /Users/abueckle/Documents/GitHub/hra-cell-type-populations-supporting-information/.venv/lib/python3.12/site-packages (from cellxgene-census) (4.13.2)\n",
      "Requirement already satisfied: s3fs>=2021.06.1 in /Users/abueckle/Documents/GitHub/hra-cell-type-populations-supporting-information/.venv/lib/python3.12/site-packages (from cellxgene-census) (2025.5.1)\n",
      "Requirement already satisfied: aiobotocore<3.0.0,>=2.5.4 in /Users/abueckle/Documents/GitHub/hra-cell-type-populations-supporting-information/.venv/lib/python3.12/site-packages (from s3fs>=2021.06.1->cellxgene-census) (2.23.0)\n",
      "Requirement already satisfied: fsspec==2025.5.1 in /Users/abueckle/Documents/GitHub/hra-cell-type-populations-supporting-information/.venv/lib/python3.12/site-packages (from s3fs>=2021.06.1->cellxgene-census) (2025.5.1)\n",
      "Requirement already satisfied: aiohttp!=4.0.0a0,!=4.0.0a1 in /Users/abueckle/Documents/GitHub/hra-cell-type-populations-supporting-information/.venv/lib/python3.12/site-packages (from s3fs>=2021.06.1->cellxgene-census) (3.12.14)\n",
      "Requirement already satisfied: aioitertools<1.0.0,>=0.5.1 in /Users/abueckle/Documents/GitHub/hra-cell-type-populations-supporting-information/.venv/lib/python3.12/site-packages (from aiobotocore<3.0.0,>=2.5.4->s3fs>=2021.06.1->cellxgene-census) (0.12.0)\n",
      "Requirement already satisfied: botocore<1.38.28,>=1.38.23 in /Users/abueckle/Documents/GitHub/hra-cell-type-populations-supporting-information/.venv/lib/python3.12/site-packages (from aiobotocore<3.0.0,>=2.5.4->s3fs>=2021.06.1->cellxgene-census) (1.38.27)\n",
      "Requirement already satisfied: python-dateutil<3.0.0,>=2.1 in /Users/abueckle/Documents/GitHub/hra-cell-type-populations-supporting-information/.venv/lib/python3.12/site-packages (from aiobotocore<3.0.0,>=2.5.4->s3fs>=2021.06.1->cellxgene-census) (2.9.0.post0)\n",
      "Requirement already satisfied: jmespath<2.0.0,>=0.7.1 in /Users/abueckle/Documents/GitHub/hra-cell-type-populations-supporting-information/.venv/lib/python3.12/site-packages (from aiobotocore<3.0.0,>=2.5.4->s3fs>=2021.06.1->cellxgene-census) (1.0.1)\n",
      "Requirement already satisfied: multidict<7.0.0,>=6.0.0 in /Users/abueckle/Documents/GitHub/hra-cell-type-populations-supporting-information/.venv/lib/python3.12/site-packages (from aiobotocore<3.0.0,>=2.5.4->s3fs>=2021.06.1->cellxgene-census) (6.6.3)\n",
      "Requirement already satisfied: wrapt<2.0.0,>=1.10.10 in /Users/abueckle/Documents/GitHub/hra-cell-type-populations-supporting-information/.venv/lib/python3.12/site-packages (from aiobotocore<3.0.0,>=2.5.4->s3fs>=2021.06.1->cellxgene-census) (1.17.2)\n",
      "Requirement already satisfied: aiohappyeyeballs>=2.5.0 in /Users/abueckle/Documents/GitHub/hra-cell-type-populations-supporting-information/.venv/lib/python3.12/site-packages (from aiohttp!=4.0.0a0,!=4.0.0a1->s3fs>=2021.06.1->cellxgene-census) (2.6.1)\n",
      "Requirement already satisfied: aiosignal>=1.4.0 in /Users/abueckle/Documents/GitHub/hra-cell-type-populations-supporting-information/.venv/lib/python3.12/site-packages (from aiohttp!=4.0.0a0,!=4.0.0a1->s3fs>=2021.06.1->cellxgene-census) (1.4.0)\n",
      "Requirement already satisfied: attrs>=17.3.0 in /Users/abueckle/Documents/GitHub/hra-cell-type-populations-supporting-information/.venv/lib/python3.12/site-packages (from aiohttp!=4.0.0a0,!=4.0.0a1->s3fs>=2021.06.1->cellxgene-census) (25.3.0)\n",
      "Requirement already satisfied: frozenlist>=1.1.1 in /Users/abueckle/Documents/GitHub/hra-cell-type-populations-supporting-information/.venv/lib/python3.12/site-packages (from aiohttp!=4.0.0a0,!=4.0.0a1->s3fs>=2021.06.1->cellxgene-census) (1.7.0)\n",
      "Requirement already satisfied: propcache>=0.2.0 in /Users/abueckle/Documents/GitHub/hra-cell-type-populations-supporting-information/.venv/lib/python3.12/site-packages (from aiohttp!=4.0.0a0,!=4.0.0a1->s3fs>=2021.06.1->cellxgene-census) (0.3.2)\n",
      "Requirement already satisfied: yarl<2.0,>=1.17.0 in /Users/abueckle/Documents/GitHub/hra-cell-type-populations-supporting-information/.venv/lib/python3.12/site-packages (from aiohttp!=4.0.0a0,!=4.0.0a1->s3fs>=2021.06.1->cellxgene-census) (1.20.1)\n",
      "Requirement already satisfied: urllib3!=2.2.0,<3,>=1.25.4 in /Users/abueckle/Documents/GitHub/hra-cell-type-populations-supporting-information/.venv/lib/python3.12/site-packages (from botocore<1.38.28,>=1.38.23->aiobotocore<3.0.0,>=2.5.4->s3fs>=2021.06.1->cellxgene-census) (2.4.0)\n",
      "Requirement already satisfied: six>=1.5 in /Users/abueckle/Documents/GitHub/hra-cell-type-populations-supporting-information/.venv/lib/python3.12/site-packages (from python-dateutil<3.0.0,>=2.1->aiobotocore<3.0.0,>=2.5.4->s3fs>=2021.06.1->cellxgene-census) (1.17.0)\n",
      "Requirement already satisfied: idna>=2.0 in /Users/abueckle/Documents/GitHub/hra-cell-type-populations-supporting-information/.venv/lib/python3.12/site-packages (from yarl<2.0,>=1.17.0->aiohttp!=4.0.0a0,!=4.0.0a1->s3fs>=2021.06.1->cellxgene-census) (3.10)\n",
      "Requirement already satisfied: more-itertools in /Users/abueckle/Documents/GitHub/hra-cell-type-populations-supporting-information/.venv/lib/python3.12/site-packages (from tiledbsoma>=1.15.3->cellxgene-census) (10.7.0)\n",
      "Requirement already satisfied: pandas in /Users/abueckle/Documents/GitHub/hra-cell-type-populations-supporting-information/.venv/lib/python3.12/site-packages (from tiledbsoma>=1.15.3->cellxgene-census) (2.2.3)\n",
      "Requirement already satisfied: pyarrow in /Users/abueckle/Documents/GitHub/hra-cell-type-populations-supporting-information/.venv/lib/python3.12/site-packages (from tiledbsoma>=1.15.3->cellxgene-census) (20.0.0)\n",
      "Requirement already satisfied: scanpy>=1.9.2 in /Users/abueckle/Documents/GitHub/hra-cell-type-populations-supporting-information/.venv/lib/python3.12/site-packages (from tiledbsoma>=1.15.3->cellxgene-census) (1.11.3)\n",
      "Requirement already satisfied: scipy in /Users/abueckle/Documents/GitHub/hra-cell-type-populations-supporting-information/.venv/lib/python3.12/site-packages (from tiledbsoma>=1.15.3->cellxgene-census) (1.15.3)\n",
      "Requirement already satisfied: somacore==1.0.28 in /Users/abueckle/Documents/GitHub/hra-cell-type-populations-supporting-information/.venv/lib/python3.12/site-packages (from tiledbsoma>=1.15.3->cellxgene-census) (1.0.28)\n",
      "Requirement already satisfied: pyarrow-hotfix in /Users/abueckle/Documents/GitHub/hra-cell-type-populations-supporting-information/.venv/lib/python3.12/site-packages (from somacore==1.0.28->tiledbsoma>=1.15.3->cellxgene-census) (0.7)\n",
      "Requirement already satisfied: shapely in /Users/abueckle/Documents/GitHub/hra-cell-type-populations-supporting-information/.venv/lib/python3.12/site-packages (from somacore==1.0.28->tiledbsoma>=1.15.3->cellxgene-census) (2.1.1)\n",
      "Requirement already satisfied: array-api-compat!=1.5,>1.4 in /Users/abueckle/Documents/GitHub/hra-cell-type-populations-supporting-information/.venv/lib/python3.12/site-packages (from anndata->cellxgene-census) (1.12.0)\n",
      "Requirement already satisfied: h5py>=3.7 in /Users/abueckle/Documents/GitHub/hra-cell-type-populations-supporting-information/.venv/lib/python3.12/site-packages (from anndata->cellxgene-census) (3.14.0)\n",
      "Requirement already satisfied: natsort in /Users/abueckle/Documents/GitHub/hra-cell-type-populations-supporting-information/.venv/lib/python3.12/site-packages (from anndata->cellxgene-census) (8.4.0)\n",
      "Requirement already satisfied: packaging>=24.2 in /Users/abueckle/Documents/GitHub/hra-cell-type-populations-supporting-information/.venv/lib/python3.12/site-packages (from anndata->cellxgene-census) (24.2)\n",
      "Requirement already satisfied: pytz>=2020.1 in /Users/abueckle/Documents/GitHub/hra-cell-type-populations-supporting-information/.venv/lib/python3.12/site-packages (from pandas->tiledbsoma>=1.15.3->cellxgene-census) (2025.2)\n",
      "Requirement already satisfied: tzdata>=2022.7 in /Users/abueckle/Documents/GitHub/hra-cell-type-populations-supporting-information/.venv/lib/python3.12/site-packages (from pandas->tiledbsoma>=1.15.3->cellxgene-census) (2025.2)\n",
      "Requirement already satisfied: joblib in /Users/abueckle/Documents/GitHub/hra-cell-type-populations-supporting-information/.venv/lib/python3.12/site-packages (from scanpy>=1.9.2->tiledbsoma>=1.15.3->cellxgene-census) (1.5.1)\n",
      "Requirement already satisfied: legacy-api-wrap>=1.4.1 in /Users/abueckle/Documents/GitHub/hra-cell-type-populations-supporting-information/.venv/lib/python3.12/site-packages (from scanpy>=1.9.2->tiledbsoma>=1.15.3->cellxgene-census) (1.4.1)\n",
      "Requirement already satisfied: matplotlib>=3.7.5 in /Users/abueckle/Documents/GitHub/hra-cell-type-populations-supporting-information/.venv/lib/python3.12/site-packages (from scanpy>=1.9.2->tiledbsoma>=1.15.3->cellxgene-census) (3.10.1)\n",
      "Requirement already satisfied: networkx>=2.7.1 in /Users/abueckle/Documents/GitHub/hra-cell-type-populations-supporting-information/.venv/lib/python3.12/site-packages (from scanpy>=1.9.2->tiledbsoma>=1.15.3->cellxgene-census) (3.5)\n",
      "Requirement already satisfied: numba>=0.57.1 in /Users/abueckle/Documents/GitHub/hra-cell-type-populations-supporting-information/.venv/lib/python3.12/site-packages (from scanpy>=1.9.2->tiledbsoma>=1.15.3->cellxgene-census) (0.61.2)\n",
      "Requirement already satisfied: patsy!=1.0.0 in /Users/abueckle/Documents/GitHub/hra-cell-type-populations-supporting-information/.venv/lib/python3.12/site-packages (from scanpy>=1.9.2->tiledbsoma>=1.15.3->cellxgene-census) (1.0.1)\n",
      "Requirement already satisfied: pynndescent>=0.5.13 in /Users/abueckle/Documents/GitHub/hra-cell-type-populations-supporting-information/.venv/lib/python3.12/site-packages (from scanpy>=1.9.2->tiledbsoma>=1.15.3->cellxgene-census) (0.5.13)\n",
      "Requirement already satisfied: scikit-learn>=1.1.3 in /Users/abueckle/Documents/GitHub/hra-cell-type-populations-supporting-information/.venv/lib/python3.12/site-packages (from scanpy>=1.9.2->tiledbsoma>=1.15.3->cellxgene-census) (1.7.0)\n",
      "Requirement already satisfied: seaborn>=0.13.2 in /Users/abueckle/Documents/GitHub/hra-cell-type-populations-supporting-information/.venv/lib/python3.12/site-packages (from scanpy>=1.9.2->tiledbsoma>=1.15.3->cellxgene-census) (0.13.2)\n",
      "Requirement already satisfied: session-info2 in /Users/abueckle/Documents/GitHub/hra-cell-type-populations-supporting-information/.venv/lib/python3.12/site-packages (from scanpy>=1.9.2->tiledbsoma>=1.15.3->cellxgene-census) (0.1.2)\n",
      "Requirement already satisfied: statsmodels>=0.14.4 in /Users/abueckle/Documents/GitHub/hra-cell-type-populations-supporting-information/.venv/lib/python3.12/site-packages (from scanpy>=1.9.2->tiledbsoma>=1.15.3->cellxgene-census) (0.14.5)\n",
      "Requirement already satisfied: tqdm in /Users/abueckle/Documents/GitHub/hra-cell-type-populations-supporting-information/.venv/lib/python3.12/site-packages (from scanpy>=1.9.2->tiledbsoma>=1.15.3->cellxgene-census) (4.67.1)\n",
      "Requirement already satisfied: umap-learn>=0.5.6 in /Users/abueckle/Documents/GitHub/hra-cell-type-populations-supporting-information/.venv/lib/python3.12/site-packages (from scanpy>=1.9.2->tiledbsoma>=1.15.3->cellxgene-census) (0.5.9.post2)\n",
      "Requirement already satisfied: contourpy>=1.0.1 in /Users/abueckle/Documents/GitHub/hra-cell-type-populations-supporting-information/.venv/lib/python3.12/site-packages (from matplotlib>=3.7.5->scanpy>=1.9.2->tiledbsoma>=1.15.3->cellxgene-census) (1.3.1)\n",
      "Requirement already satisfied: cycler>=0.10 in /Users/abueckle/Documents/GitHub/hra-cell-type-populations-supporting-information/.venv/lib/python3.12/site-packages (from matplotlib>=3.7.5->scanpy>=1.9.2->tiledbsoma>=1.15.3->cellxgene-census) (0.12.1)\n",
      "Requirement already satisfied: fonttools>=4.22.0 in /Users/abueckle/Documents/GitHub/hra-cell-type-populations-supporting-information/.venv/lib/python3.12/site-packages (from matplotlib>=3.7.5->scanpy>=1.9.2->tiledbsoma>=1.15.3->cellxgene-census) (4.56.0)\n",
      "Requirement already satisfied: kiwisolver>=1.3.1 in /Users/abueckle/Documents/GitHub/hra-cell-type-populations-supporting-information/.venv/lib/python3.12/site-packages (from matplotlib>=3.7.5->scanpy>=1.9.2->tiledbsoma>=1.15.3->cellxgene-census) (1.4.8)\n",
      "Requirement already satisfied: pillow>=8 in /Users/abueckle/Documents/GitHub/hra-cell-type-populations-supporting-information/.venv/lib/python3.12/site-packages (from matplotlib>=3.7.5->scanpy>=1.9.2->tiledbsoma>=1.15.3->cellxgene-census) (11.1.0)\n",
      "Requirement already satisfied: pyparsing>=2.3.1 in /Users/abueckle/Documents/GitHub/hra-cell-type-populations-supporting-information/.venv/lib/python3.12/site-packages (from matplotlib>=3.7.5->scanpy>=1.9.2->tiledbsoma>=1.15.3->cellxgene-census) (3.2.3)\n",
      "Requirement already satisfied: llvmlite<0.45,>=0.44.0dev0 in /Users/abueckle/Documents/GitHub/hra-cell-type-populations-supporting-information/.venv/lib/python3.12/site-packages (from numba>=0.57.1->scanpy>=1.9.2->tiledbsoma>=1.15.3->cellxgene-census) (0.44.0)\n",
      "Requirement already satisfied: threadpoolctl>=3.1.0 in /Users/abueckle/Documents/GitHub/hra-cell-type-populations-supporting-information/.venv/lib/python3.12/site-packages (from scikit-learn>=1.1.3->scanpy>=1.9.2->tiledbsoma>=1.15.3->cellxgene-census) (3.6.0)\n",
      "Requirement already satisfied: charset-normalizer<4,>=2 in /Users/abueckle/Documents/GitHub/hra-cell-type-populations-supporting-information/.venv/lib/python3.12/site-packages (from requests->cellxgene-census) (3.4.1)\n",
      "Requirement already satisfied: certifi>=2017.4.17 in /Users/abueckle/Documents/GitHub/hra-cell-type-populations-supporting-information/.venv/lib/python3.12/site-packages (from requests->cellxgene-census) (2025.1.31)\n",
      "Note: you may need to restart the kernel to use updated packages.\n"
     ]
    }
   ],
   "source": [
    "%pip install cellxgene-census\n",
    "\n",
    "import cellxgene_census"
   ]
  },
  {
   "cell_type": "markdown",
   "id": "5c23d30e",
   "metadata": {},
   "source": [
    "## Get counts for CxG"
   ]
  },
  {
   "cell_type": "code",
   "execution_count": 20,
   "id": "57a09497",
   "metadata": {},
   "outputs": [
    {
     "name": "stderr",
     "output_type": "stream",
     "text": [
      "The \"stable\" release is currently 2025-01-30. Specify 'census_version=\"2025-01-30\"' in future calls to open_soma() to ensure data consistency.\n"
     ]
    },
    {
     "name": "stdout",
     "output_type": "stream",
     "text": [
      "Column names in obs: ['soma_joinid', 'dataset_id', 'assay', 'assay_ontology_term_id', 'cell_type', 'cell_type_ontology_term_id', 'development_stage', 'development_stage_ontology_term_id', 'disease', 'disease_ontology_term_id', 'donor_id', 'is_primary_data', 'observation_joinid', 'self_reported_ethnicity', 'self_reported_ethnicity_ontology_term_id', 'sex', 'sex_ontology_term_id', 'suspension_type', 'tissue', 'tissue_ontology_term_id', 'tissue_type', 'tissue_general', 'tissue_general_ontology_term_id', 'raw_sum', 'nnz', 'raw_mean_nnz', 'raw_variance_nnz', 'n_measured_vars']\n"
     ]
    }
   ],
   "source": [
    "# get column names\n",
    "\n",
    "with cellxgene_census.open_soma() as census:\n",
    "    obs = census[\"census_data\"][\"homo_sapiens\"].obs\n",
    "\n",
    "    # Get pyarrow schema\n",
    "    schema = obs.schema\n",
    "\n",
    "    # Get all column names (includes dimensions like \"soma_joinid\")\n",
    "    column_names = schema.names\n",
    "\n",
    "    print(\"Column names in obs:\", column_names)"
   ]
  },
  {
   "cell_type": "code",
   "execution_count": 22,
   "id": "a914d6e3",
   "metadata": {},
   "outputs": [
    {
     "name": "stderr",
     "output_type": "stream",
     "text": [
      "The \"stable\" release is currently 2025-01-30. Specify 'census_version=\"2025-01-30\"' in future calls to open_soma() to ensure data consistency.\n"
     ]
    },
    {
     "name": "stdout",
     "output_type": "stream",
     "text": [
      "              assay                                          cell_type  \\\n",
      "0         10x 3' v2                                        plasma cell   \n",
      "1         10x 3' v2                                      mature B cell   \n",
      "2         10x 3' v2                                        plasma cell   \n",
      "3         10x 3' v2                                      mature B cell   \n",
      "4         10x 3' v2                                      mature B cell   \n",
      "...             ...                                                ...   \n",
      "80776633  10x 3' v3  L2/3-6 intratelencephalic projecting glutamate...   \n",
      "80776634  10x 3' v3               pvalb GABAergic cortical interneuron   \n",
      "80776635  10x 3' v3  L2/3-6 intratelencephalic projecting glutamate...   \n",
      "80776636  10x 3' v3  L2/3-6 intratelencephalic projecting glutamate...   \n",
      "80776637  10x 3' v3                   astrocyte of the cerebral cortex   \n",
      "\n",
      "                                  tissue tissue_general suspension_type  \\\n",
      "0                  caudate lobe of liver          liver            cell   \n",
      "1                  caudate lobe of liver          liver            cell   \n",
      "2                  caudate lobe of liver          liver            cell   \n",
      "3                  caudate lobe of liver          liver            cell   \n",
      "4                  caudate lobe of liver          liver            cell   \n",
      "...                                  ...            ...             ...   \n",
      "80776633  dorsolateral prefrontal cortex          brain         nucleus   \n",
      "80776634  dorsolateral prefrontal cortex          brain         nucleus   \n",
      "80776635  dorsolateral prefrontal cortex          brain         nucleus   \n",
      "80776636  dorsolateral prefrontal cortex          brain         nucleus   \n",
      "80776637  dorsolateral prefrontal cortex          brain         nucleus   \n",
      "\n",
      "         disease    donor_id                            dataset_id  \n",
      "0         normal         C41  0895c838-e550-48a3-a777-dbcd35d30272  \n",
      "1         normal         C41  0895c838-e550-48a3-a777-dbcd35d30272  \n",
      "2         normal         C41  0895c838-e550-48a3-a777-dbcd35d30272  \n",
      "3         normal         C41  0895c838-e550-48a3-a777-dbcd35d30272  \n",
      "4         normal         C41  0895c838-e550-48a3-a777-dbcd35d30272  \n",
      "...          ...         ...                                   ...  \n",
      "80776633  normal  H21.33.037  6f7fd0f1-a2ed-4ff1-80d3-33dde731cbc3  \n",
      "80776634  normal  H20.33.030  6f7fd0f1-a2ed-4ff1-80d3-33dde731cbc3  \n",
      "80776635  normal  H20.33.027  6f7fd0f1-a2ed-4ff1-80d3-33dde731cbc3  \n",
      "80776636  normal  H21.33.003  6f7fd0f1-a2ed-4ff1-80d3-33dde731cbc3  \n",
      "80776637  normal  H21.33.019  6f7fd0f1-a2ed-4ff1-80d3-33dde731cbc3  \n",
      "\n",
      "[80776638 rows x 8 columns]\n"
     ]
    }
   ],
   "source": [
    "# this uses example code from the documentation at https://chanzuckerberg.github.io/cellxgene-census/cellxgene_census_docsite_quick_start.html\n",
    "with cellxgene_census.open_soma() as census:\n",
    "\n",
    "    # Reads SOMADataFrame as a slice\n",
    "    cell_metadata = census[\"census_data\"][\"homo_sapiens\"].obs.read(\n",
    "        value_filter = \"disease=='normal'\",\n",
    "        column_names = [\"assay\", \"cell_type\", \"tissue\", \"tissue_general\", \"suspension_type\", \"disease\", \"donor_id\", \"dataset_id\"]\n",
    "    )\n",
    "\n",
    "    # Concatenates results to pyarrow.Table\n",
    "    cell_metadata = cell_metadata.concat()\n",
    "\n",
    "    # Converts to pandas.DataFrame\n",
    "    cell_metadata = cell_metadata.to_pandas()\n",
    "\n",
    "    print(cell_metadata)"
   ]
  },
  {
   "cell_type": "code",
   "execution_count": 23,
   "id": "b5c7f593",
   "metadata": {},
   "outputs": [
    {
     "data": {
      "text/plain": [
       "Index(['assay', 'cell_type', 'tissue', 'tissue_general', 'suspension_type',\n",
       "       'disease', 'donor_id', 'dataset_id'],\n",
       "      dtype='object')"
      ]
     },
     "execution_count": 23,
     "metadata": {},
     "output_type": "execute_result"
    }
   ],
   "source": [
    "cell_metadata.columns"
   ]
  },
  {
   "cell_type": "code",
   "execution_count": 18,
   "id": "7a4348d1",
   "metadata": {},
   "outputs": [
    {
     "data": {
      "text/plain": [
       "325"
      ]
     },
     "execution_count": 18,
     "metadata": {},
     "output_type": "execute_result"
    }
   ],
   "source": [
    "# get unique tissue\n",
    "cell_metadata['tissue'].nunique()"
   ]
  },
  {
   "cell_type": "code",
   "execution_count": 19,
   "id": "01fc1248",
   "metadata": {},
   "outputs": [
    {
     "data": {
      "text/plain": [
       "5549"
      ]
     },
     "execution_count": 19,
     "metadata": {},
     "output_type": "execute_result"
    }
   ],
   "source": [
    "# unique donors\n",
    "cell_metadata['donor_id'].nunique()"
   ]
  },
  {
   "cell_type": "code",
   "execution_count": 24,
   "id": "778ef996",
   "metadata": {},
   "outputs": [
    {
     "data": {
      "text/plain": [
       "791"
      ]
     },
     "execution_count": 24,
     "metadata": {},
     "output_type": "execute_result"
    }
   ],
   "source": [
    "# unique datasets\n",
    "cell_metadata['dataset_id'].nunique()"
   ]
  },
  {
   "cell_type": "code",
   "execution_count": null,
   "id": "f75c801c",
   "metadata": {},
   "outputs": [
    {
     "data": {
      "application/vnd.microsoft.datawrangler.viewer.v0+json": {
       "columns": [
        {
         "name": "index",
         "rawType": "int64",
         "type": "integer"
        },
        {
         "name": "assay",
         "rawType": "category",
         "type": "unknown"
        },
        {
         "name": "cell_type",
         "rawType": "category",
         "type": "unknown"
        },
        {
         "name": "tissue",
         "rawType": "category",
         "type": "unknown"
        },
        {
         "name": "tissue_general",
         "rawType": "category",
         "type": "unknown"
        },
        {
         "name": "suspension_type",
         "rawType": "category",
         "type": "unknown"
        },
        {
         "name": "disease",
         "rawType": "category",
         "type": "unknown"
        }
       ],
       "ref": "9befa07a-cf54-4b8b-8294-d5df5c449e9f",
       "rows": [
        [
         "0",
         "10x 3' v2",
         "plasma cell",
         "caudate lobe of liver",
         "liver",
         "cell",
         "normal"
        ],
        [
         "1",
         "10x 3' v2",
         "mature B cell",
         "caudate lobe of liver",
         "liver",
         "cell",
         "normal"
        ],
        [
         "2",
         "10x 3' v2",
         "plasma cell",
         "caudate lobe of liver",
         "liver",
         "cell",
         "normal"
        ],
        [
         "3",
         "10x 3' v2",
         "mature B cell",
         "caudate lobe of liver",
         "liver",
         "cell",
         "normal"
        ],
        [
         "4",
         "10x 3' v2",
         "mature B cell",
         "caudate lobe of liver",
         "liver",
         "cell",
         "normal"
        ],
        [
         "5",
         "10x 3' v2",
         "mature B cell",
         "caudate lobe of liver",
         "liver",
         "cell",
         "normal"
        ],
        [
         "6",
         "10x 3' v2",
         "mature B cell",
         "caudate lobe of liver",
         "liver",
         "cell",
         "normal"
        ],
        [
         "7",
         "10x 3' v2",
         "plasma cell",
         "caudate lobe of liver",
         "liver",
         "cell",
         "normal"
        ],
        [
         "8",
         "10x 3' v2",
         "mature B cell",
         "caudate lobe of liver",
         "liver",
         "cell",
         "normal"
        ],
        [
         "9",
         "10x 3' v2",
         "plasma cell",
         "caudate lobe of liver",
         "liver",
         "cell",
         "normal"
        ],
        [
         "10",
         "10x 3' v2",
         "mature B cell",
         "caudate lobe of liver",
         "liver",
         "cell",
         "normal"
        ],
        [
         "11",
         "10x 3' v2",
         "mature B cell",
         "caudate lobe of liver",
         "liver",
         "cell",
         "normal"
        ],
        [
         "12",
         "10x 3' v2",
         "plasma cell",
         "caudate lobe of liver",
         "liver",
         "cell",
         "normal"
        ],
        [
         "13",
         "10x 3' v2",
         "mature B cell",
         "caudate lobe of liver",
         "liver",
         "cell",
         "normal"
        ],
        [
         "14",
         "10x 3' v2",
         "plasma cell",
         "caudate lobe of liver",
         "liver",
         "cell",
         "normal"
        ],
        [
         "15",
         "10x 3' v2",
         "mature B cell",
         "caudate lobe of liver",
         "liver",
         "cell",
         "normal"
        ],
        [
         "16",
         "10x 3' v2",
         "plasma cell",
         "caudate lobe of liver",
         "liver",
         "cell",
         "normal"
        ],
        [
         "17",
         "10x 3' v2",
         "plasma cell",
         "caudate lobe of liver",
         "liver",
         "cell",
         "normal"
        ],
        [
         "18",
         "10x 3' v2",
         "mature B cell",
         "caudate lobe of liver",
         "liver",
         "cell",
         "normal"
        ],
        [
         "19",
         "10x 3' v2",
         "mature B cell",
         "caudate lobe of liver",
         "liver",
         "cell",
         "normal"
        ],
        [
         "20",
         "10x 3' v2",
         "plasma cell",
         "caudate lobe of liver",
         "liver",
         "cell",
         "normal"
        ],
        [
         "21",
         "10x 3' v2",
         "plasma cell",
         "caudate lobe of liver",
         "liver",
         "cell",
         "normal"
        ],
        [
         "22",
         "10x 3' v2",
         "plasma cell",
         "caudate lobe of liver",
         "liver",
         "cell",
         "normal"
        ],
        [
         "23",
         "10x 3' v2",
         "plasma cell",
         "caudate lobe of liver",
         "liver",
         "cell",
         "normal"
        ],
        [
         "24",
         "10x 3' v2",
         "mature B cell",
         "caudate lobe of liver",
         "liver",
         "cell",
         "normal"
        ],
        [
         "25",
         "10x 3' v2",
         "plasma cell",
         "caudate lobe of liver",
         "liver",
         "cell",
         "normal"
        ],
        [
         "26",
         "10x 3' v2",
         "mature B cell",
         "caudate lobe of liver",
         "liver",
         "cell",
         "normal"
        ],
        [
         "27",
         "10x 3' v2",
         "plasma cell",
         "caudate lobe of liver",
         "liver",
         "cell",
         "normal"
        ],
        [
         "28",
         "10x 3' v2",
         "plasma cell",
         "caudate lobe of liver",
         "liver",
         "cell",
         "normal"
        ],
        [
         "29",
         "10x 3' v2",
         "plasma cell",
         "caudate lobe of liver",
         "liver",
         "cell",
         "normal"
        ],
        [
         "30",
         "10x 3' v2",
         "plasma cell",
         "caudate lobe of liver",
         "liver",
         "cell",
         "normal"
        ],
        [
         "31",
         "10x 3' v2",
         "mature B cell",
         "caudate lobe of liver",
         "liver",
         "cell",
         "normal"
        ],
        [
         "32",
         "10x 3' v2",
         "mature B cell",
         "caudate lobe of liver",
         "liver",
         "cell",
         "normal"
        ],
        [
         "33",
         "10x 3' v2",
         "mature B cell",
         "caudate lobe of liver",
         "liver",
         "cell",
         "normal"
        ],
        [
         "34",
         "10x 3' v2",
         "mature B cell",
         "caudate lobe of liver",
         "liver",
         "cell",
         "normal"
        ],
        [
         "35",
         "10x 3' v2",
         "mature B cell",
         "caudate lobe of liver",
         "liver",
         "cell",
         "normal"
        ],
        [
         "36",
         "10x 3' v2",
         "mature B cell",
         "caudate lobe of liver",
         "liver",
         "cell",
         "normal"
        ],
        [
         "37",
         "10x 3' v2",
         "plasma cell",
         "caudate lobe of liver",
         "liver",
         "cell",
         "normal"
        ],
        [
         "38",
         "10x 3' v2",
         "mature B cell",
         "caudate lobe of liver",
         "liver",
         "cell",
         "normal"
        ],
        [
         "39",
         "10x 3' v2",
         "mature B cell",
         "caudate lobe of liver",
         "liver",
         "cell",
         "normal"
        ],
        [
         "40",
         "10x 3' v2",
         "mature B cell",
         "caudate lobe of liver",
         "liver",
         "cell",
         "normal"
        ],
        [
         "41",
         "10x 3' v2",
         "plasma cell",
         "caudate lobe of liver",
         "liver",
         "cell",
         "normal"
        ],
        [
         "42",
         "10x 3' v2",
         "plasma cell",
         "caudate lobe of liver",
         "liver",
         "cell",
         "normal"
        ],
        [
         "43",
         "10x 3' v2",
         "mature B cell",
         "caudate lobe of liver",
         "liver",
         "cell",
         "normal"
        ],
        [
         "44",
         "10x 3' v2",
         "plasma cell",
         "caudate lobe of liver",
         "liver",
         "cell",
         "normal"
        ],
        [
         "45",
         "10x 3' v2",
         "plasma cell",
         "caudate lobe of liver",
         "liver",
         "cell",
         "normal"
        ],
        [
         "46",
         "10x 3' v2",
         "mature B cell",
         "caudate lobe of liver",
         "liver",
         "cell",
         "normal"
        ],
        [
         "47",
         "10x 3' v2",
         "mature B cell",
         "caudate lobe of liver",
         "liver",
         "cell",
         "normal"
        ],
        [
         "48",
         "10x 3' v2",
         "plasma cell",
         "caudate lobe of liver",
         "liver",
         "cell",
         "normal"
        ],
        [
         "49",
         "10x 3' v2",
         "mature B cell",
         "caudate lobe of liver",
         "liver",
         "cell",
         "normal"
        ]
       ],
       "shape": {
        "columns": 6,
        "rows": 80776638
       }
      },
      "text/html": [
       "<div>\n",
       "<style scoped>\n",
       "    .dataframe tbody tr th:only-of-type {\n",
       "        vertical-align: middle;\n",
       "    }\n",
       "\n",
       "    .dataframe tbody tr th {\n",
       "        vertical-align: top;\n",
       "    }\n",
       "\n",
       "    .dataframe thead th {\n",
       "        text-align: right;\n",
       "    }\n",
       "</style>\n",
       "<table border=\"1\" class=\"dataframe\">\n",
       "  <thead>\n",
       "    <tr style=\"text-align: right;\">\n",
       "      <th></th>\n",
       "      <th>assay</th>\n",
       "      <th>cell_type</th>\n",
       "      <th>tissue</th>\n",
       "      <th>tissue_general</th>\n",
       "      <th>suspension_type</th>\n",
       "      <th>disease</th>\n",
       "    </tr>\n",
       "  </thead>\n",
       "  <tbody>\n",
       "    <tr>\n",
       "      <th>0</th>\n",
       "      <td>10x 3' v2</td>\n",
       "      <td>plasma cell</td>\n",
       "      <td>caudate lobe of liver</td>\n",
       "      <td>liver</td>\n",
       "      <td>cell</td>\n",
       "      <td>normal</td>\n",
       "    </tr>\n",
       "    <tr>\n",
       "      <th>1</th>\n",
       "      <td>10x 3' v2</td>\n",
       "      <td>mature B cell</td>\n",
       "      <td>caudate lobe of liver</td>\n",
       "      <td>liver</td>\n",
       "      <td>cell</td>\n",
       "      <td>normal</td>\n",
       "    </tr>\n",
       "    <tr>\n",
       "      <th>2</th>\n",
       "      <td>10x 3' v2</td>\n",
       "      <td>plasma cell</td>\n",
       "      <td>caudate lobe of liver</td>\n",
       "      <td>liver</td>\n",
       "      <td>cell</td>\n",
       "      <td>normal</td>\n",
       "    </tr>\n",
       "    <tr>\n",
       "      <th>3</th>\n",
       "      <td>10x 3' v2</td>\n",
       "      <td>mature B cell</td>\n",
       "      <td>caudate lobe of liver</td>\n",
       "      <td>liver</td>\n",
       "      <td>cell</td>\n",
       "      <td>normal</td>\n",
       "    </tr>\n",
       "    <tr>\n",
       "      <th>4</th>\n",
       "      <td>10x 3' v2</td>\n",
       "      <td>mature B cell</td>\n",
       "      <td>caudate lobe of liver</td>\n",
       "      <td>liver</td>\n",
       "      <td>cell</td>\n",
       "      <td>normal</td>\n",
       "    </tr>\n",
       "    <tr>\n",
       "      <th>...</th>\n",
       "      <td>...</td>\n",
       "      <td>...</td>\n",
       "      <td>...</td>\n",
       "      <td>...</td>\n",
       "      <td>...</td>\n",
       "      <td>...</td>\n",
       "    </tr>\n",
       "    <tr>\n",
       "      <th>80776633</th>\n",
       "      <td>10x 3' v3</td>\n",
       "      <td>L2/3-6 intratelencephalic projecting glutamate...</td>\n",
       "      <td>dorsolateral prefrontal cortex</td>\n",
       "      <td>brain</td>\n",
       "      <td>nucleus</td>\n",
       "      <td>normal</td>\n",
       "    </tr>\n",
       "    <tr>\n",
       "      <th>80776634</th>\n",
       "      <td>10x 3' v3</td>\n",
       "      <td>pvalb GABAergic cortical interneuron</td>\n",
       "      <td>dorsolateral prefrontal cortex</td>\n",
       "      <td>brain</td>\n",
       "      <td>nucleus</td>\n",
       "      <td>normal</td>\n",
       "    </tr>\n",
       "    <tr>\n",
       "      <th>80776635</th>\n",
       "      <td>10x 3' v3</td>\n",
       "      <td>L2/3-6 intratelencephalic projecting glutamate...</td>\n",
       "      <td>dorsolateral prefrontal cortex</td>\n",
       "      <td>brain</td>\n",
       "      <td>nucleus</td>\n",
       "      <td>normal</td>\n",
       "    </tr>\n",
       "    <tr>\n",
       "      <th>80776636</th>\n",
       "      <td>10x 3' v3</td>\n",
       "      <td>L2/3-6 intratelencephalic projecting glutamate...</td>\n",
       "      <td>dorsolateral prefrontal cortex</td>\n",
       "      <td>brain</td>\n",
       "      <td>nucleus</td>\n",
       "      <td>normal</td>\n",
       "    </tr>\n",
       "    <tr>\n",
       "      <th>80776637</th>\n",
       "      <td>10x 3' v3</td>\n",
       "      <td>astrocyte of the cerebral cortex</td>\n",
       "      <td>dorsolateral prefrontal cortex</td>\n",
       "      <td>brain</td>\n",
       "      <td>nucleus</td>\n",
       "      <td>normal</td>\n",
       "    </tr>\n",
       "  </tbody>\n",
       "</table>\n",
       "<p>80776638 rows × 6 columns</p>\n",
       "</div>"
      ],
      "text/plain": [
       "              assay                                          cell_type  \\\n",
       "0         10x 3' v2                                        plasma cell   \n",
       "1         10x 3' v2                                      mature B cell   \n",
       "2         10x 3' v2                                        plasma cell   \n",
       "3         10x 3' v2                                      mature B cell   \n",
       "4         10x 3' v2                                      mature B cell   \n",
       "...             ...                                                ...   \n",
       "80776633  10x 3' v3  L2/3-6 intratelencephalic projecting glutamate...   \n",
       "80776634  10x 3' v3               pvalb GABAergic cortical interneuron   \n",
       "80776635  10x 3' v3  L2/3-6 intratelencephalic projecting glutamate...   \n",
       "80776636  10x 3' v3  L2/3-6 intratelencephalic projecting glutamate...   \n",
       "80776637  10x 3' v3                   astrocyte of the cerebral cortex   \n",
       "\n",
       "                                  tissue tissue_general suspension_type  \\\n",
       "0                  caudate lobe of liver          liver            cell   \n",
       "1                  caudate lobe of liver          liver            cell   \n",
       "2                  caudate lobe of liver          liver            cell   \n",
       "3                  caudate lobe of liver          liver            cell   \n",
       "4                  caudate lobe of liver          liver            cell   \n",
       "...                                  ...            ...             ...   \n",
       "80776633  dorsolateral prefrontal cortex          brain         nucleus   \n",
       "80776634  dorsolateral prefrontal cortex          brain         nucleus   \n",
       "80776635  dorsolateral prefrontal cortex          brain         nucleus   \n",
       "80776636  dorsolateral prefrontal cortex          brain         nucleus   \n",
       "80776637  dorsolateral prefrontal cortex          brain         nucleus   \n",
       "\n",
       "         disease  \n",
       "0         normal  \n",
       "1         normal  \n",
       "2         normal  \n",
       "3         normal  \n",
       "4         normal  \n",
       "...          ...  \n",
       "80776633  normal  \n",
       "80776634  normal  \n",
       "80776635  normal  \n",
       "80776636  normal  \n",
       "80776637  normal  \n",
       "\n",
       "[80776638 rows x 6 columns]"
      ]
     },
     "execution_count": 25,
     "metadata": {},
     "output_type": "execute_result"
    }
   ],
   "source": [
    "cell_metadata"
   ]
  }
 ],
 "metadata": {
  "kernelspec": {
   "display_name": ".venv",
   "language": "python",
   "name": "python3"
  },
  "language_info": {
   "codemirror_mode": {
    "name": "ipython",
    "version": 3
   },
   "file_extension": ".py",
   "mimetype": "text/x-python",
   "name": "python",
   "nbconvert_exporter": "python",
   "pygments_lexer": "ipython3",
   "version": "3.12.4"
  }
 },
 "nbformat": 4,
 "nbformat_minor": 5
}
