{
 "cells": [
  {
   "cell_type": "markdown",
   "metadata": {},
   "source": [
    "## A notebook to get HuBMAP and SenNet datasets with RUI registration, publication status, organ"
   ]
  },
  {
   "cell_type": "markdown",
   "metadata": {},
   "source": [
    "We would like to get:\n",
    "- dataset ID\n",
    "- publication status\n",
    "- organ\n",
    "- RUI registration status\n",
    "- assay type"
   ]
  },
  {
   "cell_type": "code",
   "execution_count": 61,
   "metadata": {},
   "outputs": [
    {
     "name": "stdout",
     "output_type": "stream",
     "text": [
      "Requirement already satisfied: requests in c:\\users\\abueckle\\documents\\github\\hra-cell-type-populations-supporting-information\\.venv\\lib\\site-packages (2.32.3)\n",
      "Requirement already satisfied: pandas in c:\\users\\abueckle\\documents\\github\\hra-cell-type-populations-supporting-information\\.venv\\lib\\site-packages (2.2.2)\n",
      "Requirement already satisfied: hubmap_sdk in c:\\users\\abueckle\\documents\\github\\hra-cell-type-populations-supporting-information\\.venv\\lib\\site-packages (1.0.10)\n",
      "Requirement already satisfied: charset-normalizer<4,>=2 in c:\\users\\abueckle\\documents\\github\\hra-cell-type-populations-supporting-information\\.venv\\lib\\site-packages (from requests) (3.3.2)\n",
      "Requirement already satisfied: idna<4,>=2.5 in c:\\users\\abueckle\\documents\\github\\hra-cell-type-populations-supporting-information\\.venv\\lib\\site-packages (from requests) (2.10)\n",
      "Requirement already satisfied: urllib3<3,>=1.21.1 in c:\\users\\abueckle\\documents\\github\\hra-cell-type-populations-supporting-information\\.venv\\lib\\site-packages (from requests) (1.26.7)\n",
      "Requirement already satisfied: certifi>=2017.4.17 in c:\\users\\abueckle\\documents\\github\\hra-cell-type-populations-supporting-information\\.venv\\lib\\site-packages (from requests) (2021.10.8)\n",
      "Requirement already satisfied: numpy>=1.26.0 in c:\\users\\abueckle\\documents\\github\\hra-cell-type-populations-supporting-information\\.venv\\lib\\site-packages (from pandas) (1.26.4)\n",
      "Requirement already satisfied: python-dateutil>=2.8.2 in c:\\users\\abueckle\\documents\\github\\hra-cell-type-populations-supporting-information\\.venv\\lib\\site-packages (from pandas) (2.9.0.post0)\n",
      "Requirement already satisfied: pytz>=2020.1 in c:\\users\\abueckle\\documents\\github\\hra-cell-type-populations-supporting-information\\.venv\\lib\\site-packages (from pandas) (2024.1)\n",
      "Requirement already satisfied: tzdata>=2022.7 in c:\\users\\abueckle\\documents\\github\\hra-cell-type-populations-supporting-information\\.venv\\lib\\site-packages (from pandas) (2024.1)\n",
      "Requirement already satisfied: chardet==4.0.0 in c:\\users\\abueckle\\documents\\github\\hra-cell-type-populations-supporting-information\\.venv\\lib\\site-packages (from hubmap_sdk) (4.0.0)\n",
      "Requirement already satisfied: six>=1.5 in c:\\users\\abueckle\\documents\\github\\hra-cell-type-populations-supporting-information\\.venv\\lib\\site-packages (from python-dateutil>=2.8.2->pandas) (1.16.0)\n",
      "Note: you may need to restart the kernel to use updated packages.\n"
     ]
    },
    {
     "name": "stderr",
     "output_type": "stream",
     "text": [
      "\n",
      "[notice] A new release of pip is available: 25.0 -> 25.0.1\n",
      "[notice] To update, run: python.exe -m pip install --upgrade pip\n"
     ]
    }
   ],
   "source": [
    "# install and import libraries\n",
    "%pip install requests pandas hubmap_sdk\n",
    "\n",
    "import requests\n",
    "import hubmap_sdk\n",
    "import pandas as pd"
   ]
  },
  {
   "cell_type": "markdown",
   "metadata": {},
   "source": [
    "## HuBMAP"
   ]
  },
  {
   "cell_type": "markdown",
   "metadata": {},
   "source": [
    "### With `requests`"
   ]
  },
  {
   "cell_type": "code",
   "execution_count": 62,
   "metadata": {},
   "outputs": [
    {
     "name": "stdout",
     "output_type": "stream",
     "text": [
      "Number of dataset IDs: 500\n"
     ]
    }
   ],
   "source": [
    "# set up API request\n",
    "entity_url = 'https://entity.api.hubmapconsortium.org/entities/'\n",
    "search_url = 'https://search.api.hubmapconsortium.org/v3/'\n",
    "\n",
    "# load token --BE SURE TO PROVIDE THIS YOURSELF!\n",
    "with open('token.txt', 'r') as f:\n",
    "  TOKEN = f.read()\n",
    "headers = {\n",
    "  \"Authorization\": f\"Bearer {TOKEN}\",\n",
    "  \"accept\": \"application/json\"\n",
    "  }\n",
    "\n",
    "# make request\n",
    "response = requests.get(\n",
    "    f'{search_url}/param-search/datasets?produce-clt-manifest={True}', headers=headers)\n",
    "print(f'Number of dataset IDs: {len(response.text.split('\\n'))}')"
   ]
  },
  {
   "cell_type": "markdown",
   "metadata": {},
   "source": [
    "### With HuBMAP SDK"
   ]
  },
  {
   "cell_type": "code",
   "execution_count": 80,
   "metadata": {},
   "outputs": [],
   "source": [
    "search_query = {\n",
    "  \"query\": {\n",
    "    \"match\": {\n",
    "      \"entity_type\": \"dataset\"\n",
    "    }\n",
    "  },\n",
    "    \"stored_fields\": \"_id\" # For our purposes, we only need the ID of each dataset. \n",
    "}"
   ]
  },
  {
   "cell_type": "code",
   "execution_count": 81,
   "metadata": {},
   "outputs": [],
   "source": [
    "search_instance = hubmap_sdk.SearchSdk(\n",
    "    service_url='https://search.api.hubmapconsortium.org/v3/')\n",
    "entity_instance = hubmap_sdk.EntitySdk(\n",
    "    service_url='https://entity.api.hubmapconsortium.org/')"
   ]
  },
  {
   "cell_type": "code",
   "execution_count": 82,
   "metadata": {},
   "outputs": [],
   "source": [
    "results_dict = search_instance.search(search_query)\n",
    "list_of_hits = results_dict[\"hits\"][\"hits\"]\n",
    "list_of_datasets = []"
   ]
  },
  {
   "cell_type": "code",
   "execution_count": 83,
   "metadata": {},
   "outputs": [
    {
     "name": "stdout",
     "output_type": "stream",
     "text": [
      "Number of dataset IDs: 10\n"
     ]
    }
   ],
   "source": [
    "for hit in list_of_hits:\n",
    "    dataset = entity_instance.get_entity_by_id(hit[\"_id\"])\n",
    "    list_of_datasets.append(dataset)\n",
    "    \n",
    "ids = [each.uuid for each in list_of_datasets]\n",
    "print(f'Number of dataset IDs: {len(ids)}')"
   ]
  },
  {
   "cell_type": "markdown",
   "metadata": {},
   "source": [
    "NEXT STEP \n",
    "```\n",
    "You might try an authenticated request to https://ingest.api.hubmapconsortium.org/datasets/data-status and https://ingest.api.sennetconsortium.org/datasets/data-status\n",
    "Has field: rui location\n",
    "```\n"
   ]
  }
 ],
 "metadata": {
  "kernelspec": {
   "display_name": ".venv",
   "language": "python",
   "name": "python3"
  },
  "language_info": {
   "codemirror_mode": {
    "name": "ipython",
    "version": 3
   },
   "file_extension": ".py",
   "mimetype": "text/x-python",
   "name": "python",
   "nbconvert_exporter": "python",
   "pygments_lexer": "ipython3",
   "version": "3.12.4"
  }
 },
 "nbformat": 4,
 "nbformat_minor": 2
}
